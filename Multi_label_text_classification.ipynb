{
  "cells": [
    {
      "cell_type": "markdown",
      "metadata": {
        "id": "view-in-github",
        "colab_type": "text"
      },
      "source": [
        "<a href=\"https://colab.research.google.com/github/aliejabbari/multi_label_text_classification/blob/main/Multi_label_text_classification.ipynb\" target=\"_parent\"><img src=\"https://colab.research.google.com/assets/colab-badge.svg\" alt=\"Open In Colab\"/></a>"
      ]
    },
    {
      "cell_type": "markdown",
      "metadata": {
        "id": "Bij91pNWQOR5"
      },
      "source": [
        "# Multi-label text classification\n",
        "\n",
        "**Author:** [Ali Jabbari](https://github.com/aliejabbari)\n",
        "\n",
        "**Description:** In this notebook, we want to classify the Ronash dataset into 20 category."
      ]
    },
    {
      "cell_type": "code",
      "execution_count": 30,
      "metadata": {
        "id": "sL739kMAEsU9"
      },
      "outputs": [],
      "source": [
        "import matplotlib.pyplot as plt\n",
        "import numpy as np\n",
        "import pandas as pd\n",
        "import re\n",
        "import tensorflow as tf\n",
        "from collections import Counter\n",
        "from sklearn.model_selection import train_test_split\n",
        "from tensorflow.keras import layers"
      ]
    },
    {
      "cell_type": "code",
      "execution_count": 31,
      "metadata": {
        "colab": {
          "base_uri": "https://localhost:8080/"
        },
        "id": "SHa9m3aLEbyP",
        "outputId": "b41914fe-4a8d-4793-b90b-3af63a49ddce"
      },
      "outputs": [
        {
          "output_type": "stream",
          "name": "stdout",
          "text": [
            "Downloading...\n",
            "From: https://drive.google.com/uc?id=1Yq3XTnACkvaIiNlhX09Zth55nOau7jQy\n",
            "To: /content/Ronash_DS_Assignment.csv\n",
            "\r  0% 0.00/1.05M [00:00<?, ?B/s]\r100% 1.05M/1.05M [00:00<00:00, 169MB/s]\n"
          ]
        }
      ],
      "source": [
        "# downloading Data from the Google Drive link\n",
        "!gdown 1Yq3XTnACkvaIiNlhX09Zth55nOau7jQy"
      ]
    },
    {
      "cell_type": "code",
      "execution_count": 32,
      "metadata": {
        "colab": {
          "base_uri": "https://localhost:8080/"
        },
        "id": "6QpBuoWrC5QS",
        "outputId": "77624103-cf93-4dd0-d31b-8930d700d23d"
      },
      "outputs": [
        {
          "output_type": "stream",
          "name": "stdout",
          "text": [
            "Ronash_DS_Assignment.csv  \u001b[0m\u001b[01;34msample_data\u001b[0m/\n"
          ]
        }
      ],
      "source": [
        "ls"
      ]
    },
    {
      "cell_type": "code",
      "execution_count": 33,
      "metadata": {
        "colab": {
          "base_uri": "https://localhost:8080/",
          "height": 423
        },
        "id": "722bMOmzF4_H",
        "outputId": "04390516-1d31-4f33-afce-dd0d642aba3a"
      },
      "outputs": [
        {
          "output_type": "execute_result",
          "data": {
            "text/plain": [
              "         product_id                                              title  \\\n",
              "0     3937721221199    Fidele Super Premium Adult Large Breed Dog Food   \n",
              "1     7353058033889                    Foldable Pet Toys Linen Storage   \n",
              "2     6594773549129                                     Bok Dok Diaper   \n",
              "3     4802008318014                              Tastybone Toy Chicken   \n",
              "4     1779705151539                Leather Leash Tab - Short Dog Leash   \n",
              "...             ...                                                ...   \n",
              "5265  4637089464407                              Candylab MOO Milk Van   \n",
              "5266  4996632444987  Truck - Modern Era Vehicles -- Red, White -  S...   \n",
              "5267  5528541003927  Car Sticker Flags Decal American Flag Sticker for   \n",
              "5268  1395163889730          Lazer Helmets Bayamo Pit Bull - Full Face   \n",
              "5269  3535679324240                             Deutz Agrotron Tractor   \n",
              "\n",
              "                 vendor                                               tags  \\\n",
              "0                Fidele  ['Adult', 'Bangalore', 'Chennai', 'Chicken', '...   \n",
              "1             Cap Point                                                 []   \n",
              "2             Pets Home  ['Brand_Pet Arabia', 'Category_Pets Home', 'Ca...   \n",
              "3             TastyBone                                                 []   \n",
              "4            Mighty Paw                 ['Leash', 'Leash Tab', 'Training']   \n",
              "...                 ...                                                ...   \n",
              "5265           Candylab  ['3 Years +', 'candylab', 'Discount Products',...   \n",
              "5266   Woodland Scenics  ['HO Scale', 'ho-scale-items', 'vehicles', 'wo...   \n",
              "5267        Cyan Selene                                          ['Other']   \n",
              "5268  OPEN BOX BARGAINS  ['65061090', 'Antiscratch Pinlock Ready Visor'...   \n",
              "5269               Siku  ['$0 to $25', 'diecast-models', 'gift-finder',...   \n",
              "\n",
              "                    category  \n",
              "0     Animals & Pet Supplies  \n",
              "1     Animals & Pet Supplies  \n",
              "2     Animals & Pet Supplies  \n",
              "3     Animals & Pet Supplies  \n",
              "4     Animals & Pet Supplies  \n",
              "...                      ...  \n",
              "5265        Vehicles & Parts  \n",
              "5266        Vehicles & Parts  \n",
              "5267        Vehicles & Parts  \n",
              "5268        Vehicles & Parts  \n",
              "5269        Vehicles & Parts  \n",
              "\n",
              "[5270 rows x 5 columns]"
            ],
            "text/html": [
              "\n",
              "  <div id=\"df-4ff8f77a-bed9-4ffd-b5e2-89f0ae926766\">\n",
              "    <div class=\"colab-df-container\">\n",
              "      <div>\n",
              "<style scoped>\n",
              "    .dataframe tbody tr th:only-of-type {\n",
              "        vertical-align: middle;\n",
              "    }\n",
              "\n",
              "    .dataframe tbody tr th {\n",
              "        vertical-align: top;\n",
              "    }\n",
              "\n",
              "    .dataframe thead th {\n",
              "        text-align: right;\n",
              "    }\n",
              "</style>\n",
              "<table border=\"1\" class=\"dataframe\">\n",
              "  <thead>\n",
              "    <tr style=\"text-align: right;\">\n",
              "      <th></th>\n",
              "      <th>product_id</th>\n",
              "      <th>title</th>\n",
              "      <th>vendor</th>\n",
              "      <th>tags</th>\n",
              "      <th>category</th>\n",
              "    </tr>\n",
              "  </thead>\n",
              "  <tbody>\n",
              "    <tr>\n",
              "      <th>0</th>\n",
              "      <td>3937721221199</td>\n",
              "      <td>Fidele Super Premium Adult Large Breed Dog Food</td>\n",
              "      <td>Fidele</td>\n",
              "      <td>['Adult', 'Bangalore', 'Chennai', 'Chicken', '...</td>\n",
              "      <td>Animals &amp; Pet Supplies</td>\n",
              "    </tr>\n",
              "    <tr>\n",
              "      <th>1</th>\n",
              "      <td>7353058033889</td>\n",
              "      <td>Foldable Pet Toys Linen Storage</td>\n",
              "      <td>Cap Point</td>\n",
              "      <td>[]</td>\n",
              "      <td>Animals &amp; Pet Supplies</td>\n",
              "    </tr>\n",
              "    <tr>\n",
              "      <th>2</th>\n",
              "      <td>6594773549129</td>\n",
              "      <td>Bok Dok Diaper</td>\n",
              "      <td>Pets Home</td>\n",
              "      <td>['Brand_Pet Arabia', 'Category_Pets Home', 'Ca...</td>\n",
              "      <td>Animals &amp; Pet Supplies</td>\n",
              "    </tr>\n",
              "    <tr>\n",
              "      <th>3</th>\n",
              "      <td>4802008318014</td>\n",
              "      <td>Tastybone Toy Chicken</td>\n",
              "      <td>TastyBone</td>\n",
              "      <td>[]</td>\n",
              "      <td>Animals &amp; Pet Supplies</td>\n",
              "    </tr>\n",
              "    <tr>\n",
              "      <th>4</th>\n",
              "      <td>1779705151539</td>\n",
              "      <td>Leather Leash Tab - Short Dog Leash</td>\n",
              "      <td>Mighty Paw</td>\n",
              "      <td>['Leash', 'Leash Tab', 'Training']</td>\n",
              "      <td>Animals &amp; Pet Supplies</td>\n",
              "    </tr>\n",
              "    <tr>\n",
              "      <th>...</th>\n",
              "      <td>...</td>\n",
              "      <td>...</td>\n",
              "      <td>...</td>\n",
              "      <td>...</td>\n",
              "      <td>...</td>\n",
              "    </tr>\n",
              "    <tr>\n",
              "      <th>5265</th>\n",
              "      <td>4637089464407</td>\n",
              "      <td>Candylab MOO Milk Van</td>\n",
              "      <td>Candylab</td>\n",
              "      <td>['3 Years +', 'candylab', 'Discount Products',...</td>\n",
              "      <td>Vehicles &amp; Parts</td>\n",
              "    </tr>\n",
              "    <tr>\n",
              "      <th>5266</th>\n",
              "      <td>4996632444987</td>\n",
              "      <td>Truck - Modern Era Vehicles -- Red, White -  S...</td>\n",
              "      <td>Woodland Scenics</td>\n",
              "      <td>['HO Scale', 'ho-scale-items', 'vehicles', 'wo...</td>\n",
              "      <td>Vehicles &amp; Parts</td>\n",
              "    </tr>\n",
              "    <tr>\n",
              "      <th>5267</th>\n",
              "      <td>5528541003927</td>\n",
              "      <td>Car Sticker Flags Decal American Flag Sticker for</td>\n",
              "      <td>Cyan Selene</td>\n",
              "      <td>['Other']</td>\n",
              "      <td>Vehicles &amp; Parts</td>\n",
              "    </tr>\n",
              "    <tr>\n",
              "      <th>5268</th>\n",
              "      <td>1395163889730</td>\n",
              "      <td>Lazer Helmets Bayamo Pit Bull - Full Face</td>\n",
              "      <td>OPEN BOX BARGAINS</td>\n",
              "      <td>['65061090', 'Antiscratch Pinlock Ready Visor'...</td>\n",
              "      <td>Vehicles &amp; Parts</td>\n",
              "    </tr>\n",
              "    <tr>\n",
              "      <th>5269</th>\n",
              "      <td>3535679324240</td>\n",
              "      <td>Deutz Agrotron Tractor</td>\n",
              "      <td>Siku</td>\n",
              "      <td>['$0 to $25', 'diecast-models', 'gift-finder',...</td>\n",
              "      <td>Vehicles &amp; Parts</td>\n",
              "    </tr>\n",
              "  </tbody>\n",
              "</table>\n",
              "<p>5270 rows × 5 columns</p>\n",
              "</div>\n",
              "      <button class=\"colab-df-convert\" onclick=\"convertToInteractive('df-4ff8f77a-bed9-4ffd-b5e2-89f0ae926766')\"\n",
              "              title=\"Convert this dataframe to an interactive table.\"\n",
              "              style=\"display:none;\">\n",
              "        \n",
              "  <svg xmlns=\"http://www.w3.org/2000/svg\" height=\"24px\"viewBox=\"0 0 24 24\"\n",
              "       width=\"24px\">\n",
              "    <path d=\"M0 0h24v24H0V0z\" fill=\"none\"/>\n",
              "    <path d=\"M18.56 5.44l.94 2.06.94-2.06 2.06-.94-2.06-.94-.94-2.06-.94 2.06-2.06.94zm-11 1L8.5 8.5l.94-2.06 2.06-.94-2.06-.94L8.5 2.5l-.94 2.06-2.06.94zm10 10l.94 2.06.94-2.06 2.06-.94-2.06-.94-.94-2.06-.94 2.06-2.06.94z\"/><path d=\"M17.41 7.96l-1.37-1.37c-.4-.4-.92-.59-1.43-.59-.52 0-1.04.2-1.43.59L10.3 9.45l-7.72 7.72c-.78.78-.78 2.05 0 2.83L4 21.41c.39.39.9.59 1.41.59.51 0 1.02-.2 1.41-.59l7.78-7.78 2.81-2.81c.8-.78.8-2.07 0-2.86zM5.41 20L4 18.59l7.72-7.72 1.47 1.35L5.41 20z\"/>\n",
              "  </svg>\n",
              "      </button>\n",
              "      \n",
              "  <style>\n",
              "    .colab-df-container {\n",
              "      display:flex;\n",
              "      flex-wrap:wrap;\n",
              "      gap: 12px;\n",
              "    }\n",
              "\n",
              "    .colab-df-convert {\n",
              "      background-color: #E8F0FE;\n",
              "      border: none;\n",
              "      border-radius: 50%;\n",
              "      cursor: pointer;\n",
              "      display: none;\n",
              "      fill: #1967D2;\n",
              "      height: 32px;\n",
              "      padding: 0 0 0 0;\n",
              "      width: 32px;\n",
              "    }\n",
              "\n",
              "    .colab-df-convert:hover {\n",
              "      background-color: #E2EBFA;\n",
              "      box-shadow: 0px 1px 2px rgba(60, 64, 67, 0.3), 0px 1px 3px 1px rgba(60, 64, 67, 0.15);\n",
              "      fill: #174EA6;\n",
              "    }\n",
              "\n",
              "    [theme=dark] .colab-df-convert {\n",
              "      background-color: #3B4455;\n",
              "      fill: #D2E3FC;\n",
              "    }\n",
              "\n",
              "    [theme=dark] .colab-df-convert:hover {\n",
              "      background-color: #434B5C;\n",
              "      box-shadow: 0px 1px 3px 1px rgba(0, 0, 0, 0.15);\n",
              "      filter: drop-shadow(0px 1px 2px rgba(0, 0, 0, 0.3));\n",
              "      fill: #FFFFFF;\n",
              "    }\n",
              "  </style>\n",
              "\n",
              "      <script>\n",
              "        const buttonEl =\n",
              "          document.querySelector('#df-4ff8f77a-bed9-4ffd-b5e2-89f0ae926766 button.colab-df-convert');\n",
              "        buttonEl.style.display =\n",
              "          google.colab.kernel.accessAllowed ? 'block' : 'none';\n",
              "\n",
              "        async function convertToInteractive(key) {\n",
              "          const element = document.querySelector('#df-4ff8f77a-bed9-4ffd-b5e2-89f0ae926766');\n",
              "          const dataTable =\n",
              "            await google.colab.kernel.invokeFunction('convertToInteractive',\n",
              "                                                     [key], {});\n",
              "          if (!dataTable) return;\n",
              "\n",
              "          const docLinkHtml = 'Like what you see? Visit the ' +\n",
              "            '<a target=\"_blank\" href=https://colab.research.google.com/notebooks/data_table.ipynb>data table notebook</a>'\n",
              "            + ' to learn more about interactive tables.';\n",
              "          element.innerHTML = '';\n",
              "          dataTable['output_type'] = 'display_data';\n",
              "          await google.colab.output.renderOutput(dataTable, element);\n",
              "          const docLink = document.createElement('div');\n",
              "          docLink.innerHTML = docLinkHtml;\n",
              "          element.appendChild(docLink);\n",
              "        }\n",
              "      </script>\n",
              "    </div>\n",
              "  </div>\n",
              "  "
            ]
          },
          "metadata": {},
          "execution_count": 33
        }
      ],
      "source": [
        "# reading the csv file as a dataframe\n",
        "df = pd.read_csv('Ronash_DS_Assignment.csv')\n",
        "df"
      ]
    },
    {
      "cell_type": "code",
      "execution_count": 34,
      "metadata": {
        "colab": {
          "base_uri": "https://localhost:8080/"
        },
        "id": "6E1ZDXyPlr6y",
        "outputId": "f5695397-e189-47c8-d5f5-024281c65df9"
      },
      "outputs": [
        {
          "output_type": "execute_result",
          "data": {
            "text/plain": [
              "Apparel & Accessories        1000\n",
              "Animals & Pet Supplies        500\n",
              "Food, Beverages & Tobacco     400\n",
              "Sporting Goods                400\n",
              "Luggage & Bags                400\n",
              "Home & Garden                 400\n",
              "Health & Beauty               400\n",
              "Media                         300\n",
              "Toys & Games                  300\n",
              "Furniture                     200\n",
              "Baby & Toddler                200\n",
              "Arts & Entertainment          200\n",
              "Electronics                   100\n",
              "Business & Industrial         100\n",
              "Office Supplies               100\n",
              "Vehicles & Parts              100\n",
              "Hardware                       50\n",
              "Cameras & Optics               50\n",
              "Software                       50\n",
              "Religious & Ceremonial         20\n",
              "Name: category, dtype: int64"
            ]
          },
          "metadata": {},
          "execution_count": 34
        }
      ],
      "source": [
        "# counting the number of each label\n",
        "df['category'].value_counts()"
      ]
    },
    {
      "cell_type": "code",
      "execution_count": 35,
      "metadata": {
        "colab": {
          "base_uri": "https://localhost:8080/"
        },
        "id": "Un_ggKoLUAEf",
        "outputId": "c8371e41-6f33-4134-c2e5-8519aa6f9052"
      },
      "outputs": [
        {
          "output_type": "stream",
          "name": "stdout",
          "text": [
            "There are 0 duplicate title.\n",
            "There are 1256 duplicate vondor.\n",
            "There are 716 duplicate tags.\n"
          ]
        }
      ],
      "source": [
        "# counting how many indices are duplicated in each column\n",
        "print(f\"There are {sum(df['title'].duplicated())} duplicate title.\")\n",
        "print(f\"There are {sum(df['vendor'].duplicated())} duplicate vondor.\")\n",
        "print(f\"There are {sum(df['tags'].duplicated())} duplicate tags.\")"
      ]
    },
    {
      "cell_type": "code",
      "execution_count": 36,
      "metadata": {
        "colab": {
          "base_uri": "https://localhost:8080/"
        },
        "id": "VD95efZwCRYT",
        "outputId": "21ff0eb4-ff2d-40ea-a033-7174cda62601"
      },
      "outputs": [
        {
          "output_type": "execute_result",
          "data": {
            "text/plain": [
              "3"
            ]
          },
          "metadata": {},
          "execution_count": 36
        }
      ],
      "source": [
        "# counting the number of Nan samples\n",
        "df.isnull().values.sum()"
      ]
    },
    {
      "cell_type": "markdown",
      "metadata": {
        "id": "rhPJQuDEb8oN"
      },
      "source": [
        "There are just 3 Nan samples in the dataset so we can ignore them."
      ]
    },
    {
      "cell_type": "code",
      "execution_count": 37,
      "metadata": {
        "colab": {
          "base_uri": "https://localhost:8080/"
        },
        "id": "aH9UzP7-__P2",
        "outputId": "9fd04760-3188-449e-f8af-e277735a664f"
      },
      "outputs": [
        {
          "output_type": "stream",
          "name": "stdout",
          "text": [
            "fidele super premium adult large breed dog food fidele adult bangalore chennai chicken doberman dog dry foods fidele german shepherd golden retriever great dane highpriority imported labrador less than 1000 less than 2000 less than 500 mastiff orange pet nutrition \n",
            "foldable pet toys linen storage cap point \n",
            "bok dok diaper pets home brand pet arabia category pets home category small pets supplies type pet home type pet supplies \n",
            "tastybone toy chicken tastybone \n",
            "leather leash tab short dog leash mighty paw leash leash tab training \n",
            "pridebites texas guitar dog toy pride bites brand pridebites toy type plush \n",
            "burns sensitive pork potato burns 10 25 25 50 50 75 adult burns coat dog food food delivery jansale18 natural nonsale19 sensitive size 12kg size 2kg size 6kg skin \n",
            "bully sticks dog toy adog.co bully sticks dog chew toys dog toys \n",
            "kazoo tough giraffe dog toy kazoo brand kazoo june2021 kazoo material plush plush \n",
            "orgo dog biscuits fresh milk petku brand orgo category dogs dogs lifestage all lifestages orgo price rp 0 to rp 100.000 subcategory treats treats \n"
          ]
        }
      ],
      "source": [
        "# the function for extracting and standardizing the sentences\n",
        "def text_extraction(dfi):\n",
        "  # in this function, we concatenate text feature parts of the data as a sentence\n",
        "  sentence = ' '.join([dfi['title'], str(dfi['vendor']), dfi['tags']])\n",
        "  # Remove punctuations\n",
        "  sentence = re.sub('[^a-zA-Z0-9$.]', ' ', sentence)\n",
        "  # Single character removal\n",
        "  sentence = re.sub(r\"\\s+[a-zA-Z]\\s+\", ' ', sentence)\n",
        "  # Removing multiple spaces\n",
        "  sentence = re.sub(r'\\s+', ' ', sentence)\n",
        "  # Changint to lowercase\n",
        "  sentence = sentence.lower()\n",
        "  return sentence\n",
        "\n",
        "# printing 10 sample sentences\n",
        "for i in range(10):\n",
        "  print(text_extraction(df.iloc[i]))"
      ]
    },
    {
      "cell_type": "code",
      "execution_count": 38,
      "metadata": {
        "colab": {
          "base_uri": "https://localhost:8080/",
          "height": 423
        },
        "id": "7x4WG7NC9Xz3",
        "outputId": "b34586a9-7a46-4f38-eba7-5fc2840f9434"
      },
      "outputs": [
        {
          "output_type": "execute_result",
          "data": {
            "text/plain": [
              "                                                   text  \\\n",
              "0     fidele super premium adult large breed dog foo...   \n",
              "1            foldable pet toys linen storage cap point    \n",
              "2     bok dok diaper pets home brand pet arabia cate...   \n",
              "3                      tastybone toy chicken tastybone    \n",
              "4     leather leash tab short dog leash mighty paw l...   \n",
              "...                                                 ...   \n",
              "5265  candylab moo milk van candylab 3 years candyla...   \n",
              "5266  truck modern era vehicles red white scale ho w...   \n",
              "5267  car sticker flags decal american flag sticker ...   \n",
              "5268  lazer helmets bayamo pit bull full face open b...   \n",
              "5269  deutz agrotron tractor siku $0 to $25 diecast ...   \n",
              "\n",
              "                       label  label_int  \n",
              "0     Animals & Pet Supplies          0  \n",
              "1     Animals & Pet Supplies          0  \n",
              "2     Animals & Pet Supplies          0  \n",
              "3     Animals & Pet Supplies          0  \n",
              "4     Animals & Pet Supplies          0  \n",
              "...                      ...        ...  \n",
              "5265        Vehicles & Parts         19  \n",
              "5266        Vehicles & Parts         19  \n",
              "5267        Vehicles & Parts         19  \n",
              "5268        Vehicles & Parts         19  \n",
              "5269        Vehicles & Parts         19  \n",
              "\n",
              "[5270 rows x 3 columns]"
            ],
            "text/html": [
              "\n",
              "  <div id=\"df-fdf03771-90b7-4b9e-8995-fc0d5718e081\">\n",
              "    <div class=\"colab-df-container\">\n",
              "      <div>\n",
              "<style scoped>\n",
              "    .dataframe tbody tr th:only-of-type {\n",
              "        vertical-align: middle;\n",
              "    }\n",
              "\n",
              "    .dataframe tbody tr th {\n",
              "        vertical-align: top;\n",
              "    }\n",
              "\n",
              "    .dataframe thead th {\n",
              "        text-align: right;\n",
              "    }\n",
              "</style>\n",
              "<table border=\"1\" class=\"dataframe\">\n",
              "  <thead>\n",
              "    <tr style=\"text-align: right;\">\n",
              "      <th></th>\n",
              "      <th>text</th>\n",
              "      <th>label</th>\n",
              "      <th>label_int</th>\n",
              "    </tr>\n",
              "  </thead>\n",
              "  <tbody>\n",
              "    <tr>\n",
              "      <th>0</th>\n",
              "      <td>fidele super premium adult large breed dog foo...</td>\n",
              "      <td>Animals &amp; Pet Supplies</td>\n",
              "      <td>0</td>\n",
              "    </tr>\n",
              "    <tr>\n",
              "      <th>1</th>\n",
              "      <td>foldable pet toys linen storage cap point</td>\n",
              "      <td>Animals &amp; Pet Supplies</td>\n",
              "      <td>0</td>\n",
              "    </tr>\n",
              "    <tr>\n",
              "      <th>2</th>\n",
              "      <td>bok dok diaper pets home brand pet arabia cate...</td>\n",
              "      <td>Animals &amp; Pet Supplies</td>\n",
              "      <td>0</td>\n",
              "    </tr>\n",
              "    <tr>\n",
              "      <th>3</th>\n",
              "      <td>tastybone toy chicken tastybone</td>\n",
              "      <td>Animals &amp; Pet Supplies</td>\n",
              "      <td>0</td>\n",
              "    </tr>\n",
              "    <tr>\n",
              "      <th>4</th>\n",
              "      <td>leather leash tab short dog leash mighty paw l...</td>\n",
              "      <td>Animals &amp; Pet Supplies</td>\n",
              "      <td>0</td>\n",
              "    </tr>\n",
              "    <tr>\n",
              "      <th>...</th>\n",
              "      <td>...</td>\n",
              "      <td>...</td>\n",
              "      <td>...</td>\n",
              "    </tr>\n",
              "    <tr>\n",
              "      <th>5265</th>\n",
              "      <td>candylab moo milk van candylab 3 years candyla...</td>\n",
              "      <td>Vehicles &amp; Parts</td>\n",
              "      <td>19</td>\n",
              "    </tr>\n",
              "    <tr>\n",
              "      <th>5266</th>\n",
              "      <td>truck modern era vehicles red white scale ho w...</td>\n",
              "      <td>Vehicles &amp; Parts</td>\n",
              "      <td>19</td>\n",
              "    </tr>\n",
              "    <tr>\n",
              "      <th>5267</th>\n",
              "      <td>car sticker flags decal american flag sticker ...</td>\n",
              "      <td>Vehicles &amp; Parts</td>\n",
              "      <td>19</td>\n",
              "    </tr>\n",
              "    <tr>\n",
              "      <th>5268</th>\n",
              "      <td>lazer helmets bayamo pit bull full face open b...</td>\n",
              "      <td>Vehicles &amp; Parts</td>\n",
              "      <td>19</td>\n",
              "    </tr>\n",
              "    <tr>\n",
              "      <th>5269</th>\n",
              "      <td>deutz agrotron tractor siku $0 to $25 diecast ...</td>\n",
              "      <td>Vehicles &amp; Parts</td>\n",
              "      <td>19</td>\n",
              "    </tr>\n",
              "  </tbody>\n",
              "</table>\n",
              "<p>5270 rows × 3 columns</p>\n",
              "</div>\n",
              "      <button class=\"colab-df-convert\" onclick=\"convertToInteractive('df-fdf03771-90b7-4b9e-8995-fc0d5718e081')\"\n",
              "              title=\"Convert this dataframe to an interactive table.\"\n",
              "              style=\"display:none;\">\n",
              "        \n",
              "  <svg xmlns=\"http://www.w3.org/2000/svg\" height=\"24px\"viewBox=\"0 0 24 24\"\n",
              "       width=\"24px\">\n",
              "    <path d=\"M0 0h24v24H0V0z\" fill=\"none\"/>\n",
              "    <path d=\"M18.56 5.44l.94 2.06.94-2.06 2.06-.94-2.06-.94-.94-2.06-.94 2.06-2.06.94zm-11 1L8.5 8.5l.94-2.06 2.06-.94-2.06-.94L8.5 2.5l-.94 2.06-2.06.94zm10 10l.94 2.06.94-2.06 2.06-.94-2.06-.94-.94-2.06-.94 2.06-2.06.94z\"/><path d=\"M17.41 7.96l-1.37-1.37c-.4-.4-.92-.59-1.43-.59-.52 0-1.04.2-1.43.59L10.3 9.45l-7.72 7.72c-.78.78-.78 2.05 0 2.83L4 21.41c.39.39.9.59 1.41.59.51 0 1.02-.2 1.41-.59l7.78-7.78 2.81-2.81c.8-.78.8-2.07 0-2.86zM5.41 20L4 18.59l7.72-7.72 1.47 1.35L5.41 20z\"/>\n",
              "  </svg>\n",
              "      </button>\n",
              "      \n",
              "  <style>\n",
              "    .colab-df-container {\n",
              "      display:flex;\n",
              "      flex-wrap:wrap;\n",
              "      gap: 12px;\n",
              "    }\n",
              "\n",
              "    .colab-df-convert {\n",
              "      background-color: #E8F0FE;\n",
              "      border: none;\n",
              "      border-radius: 50%;\n",
              "      cursor: pointer;\n",
              "      display: none;\n",
              "      fill: #1967D2;\n",
              "      height: 32px;\n",
              "      padding: 0 0 0 0;\n",
              "      width: 32px;\n",
              "    }\n",
              "\n",
              "    .colab-df-convert:hover {\n",
              "      background-color: #E2EBFA;\n",
              "      box-shadow: 0px 1px 2px rgba(60, 64, 67, 0.3), 0px 1px 3px 1px rgba(60, 64, 67, 0.15);\n",
              "      fill: #174EA6;\n",
              "    }\n",
              "\n",
              "    [theme=dark] .colab-df-convert {\n",
              "      background-color: #3B4455;\n",
              "      fill: #D2E3FC;\n",
              "    }\n",
              "\n",
              "    [theme=dark] .colab-df-convert:hover {\n",
              "      background-color: #434B5C;\n",
              "      box-shadow: 0px 1px 3px 1px rgba(0, 0, 0, 0.15);\n",
              "      filter: drop-shadow(0px 1px 2px rgba(0, 0, 0, 0.3));\n",
              "      fill: #FFFFFF;\n",
              "    }\n",
              "  </style>\n",
              "\n",
              "      <script>\n",
              "        const buttonEl =\n",
              "          document.querySelector('#df-fdf03771-90b7-4b9e-8995-fc0d5718e081 button.colab-df-convert');\n",
              "        buttonEl.style.display =\n",
              "          google.colab.kernel.accessAllowed ? 'block' : 'none';\n",
              "\n",
              "        async function convertToInteractive(key) {\n",
              "          const element = document.querySelector('#df-fdf03771-90b7-4b9e-8995-fc0d5718e081');\n",
              "          const dataTable =\n",
              "            await google.colab.kernel.invokeFunction('convertToInteractive',\n",
              "                                                     [key], {});\n",
              "          if (!dataTable) return;\n",
              "\n",
              "          const docLinkHtml = 'Like what you see? Visit the ' +\n",
              "            '<a target=\"_blank\" href=https://colab.research.google.com/notebooks/data_table.ipynb>data table notebook</a>'\n",
              "            + ' to learn more about interactive tables.';\n",
              "          element.innerHTML = '';\n",
              "          dataTable['output_type'] = 'display_data';\n",
              "          await google.colab.output.renderOutput(dataTable, element);\n",
              "          const docLink = document.createElement('div');\n",
              "          docLink.innerHTML = docLinkHtml;\n",
              "          element.appendChild(docLink);\n",
              "        }\n",
              "      </script>\n",
              "    </div>\n",
              "  </div>\n",
              "  "
            ]
          },
          "metadata": {},
          "execution_count": 38
        }
      ],
      "source": [
        "# creating the dataset\n",
        "dataset = pd.DataFrame(columns=['text', 'label'])\n",
        "for i in range(len(df)):\n",
        "  dataset = dataset.append({'text':text_extraction(df.iloc[i]), 'label':df.iloc[i]['category']}, ignore_index = True)\n",
        "\n",
        "# creating integer labels for multiclass training\n",
        "dataset['label_int'] = pd.Categorical(dataset['label']).codes\n",
        "dataset"
      ]
    },
    {
      "cell_type": "code",
      "execution_count": 39,
      "metadata": {
        "colab": {
          "base_uri": "https://localhost:8080/"
        },
        "id": "9uHdTY3p9Xfr",
        "outputId": "eceb046d-6ed8-4dcc-b33d-792667bafc4e"
      },
      "outputs": [
        {
          "output_type": "execute_result",
          "data": {
            "text/plain": [
              "['Animals & Pet Supplies',\n",
              " 'Apparel & Accessories',\n",
              " 'Arts & Entertainment',\n",
              " 'Baby & Toddler',\n",
              " 'Business & Industrial',\n",
              " 'Cameras & Optics',\n",
              " 'Electronics',\n",
              " 'Food, Beverages & Tobacco',\n",
              " 'Furniture',\n",
              " 'Hardware',\n",
              " 'Health & Beauty',\n",
              " 'Home & Garden',\n",
              " 'Luggage & Bags',\n",
              " 'Media',\n",
              " 'Office Supplies',\n",
              " 'Religious & Ceremonial',\n",
              " 'Software',\n",
              " 'Sporting Goods',\n",
              " 'Toys & Games',\n",
              " 'Vehicles & Parts']"
            ]
          },
          "metadata": {},
          "execution_count": 39
        }
      ],
      "source": [
        "# extracting the names of the labels\n",
        "labels_names = list(Counter(dataset['label']).keys())\n",
        "labels_names"
      ]
    },
    {
      "cell_type": "code",
      "execution_count": 40,
      "metadata": {
        "colab": {
          "base_uri": "https://localhost:8080/"
        },
        "id": "QXCgd6QTC_k6",
        "outputId": "79da77f6-fee6-48e6-9bc7-790d7b9bbdaf"
      },
      "outputs": [
        {
          "output_type": "stream",
          "name": "stdout",
          "text": [
            "Label 0 corresponds to Animals & Pet Supplies\n",
            "Label 1 corresponds to Apparel & Accessories\n",
            "Label 2 corresponds to Arts & Entertainment\n",
            "Label 3 corresponds to Baby & Toddler\n",
            "Label 4 corresponds to Business & Industrial\n",
            "Label 5 corresponds to Cameras & Optics\n",
            "Label 6 corresponds to Electronics\n",
            "Label 7 corresponds to Food, Beverages & Tobacco\n",
            "Label 8 corresponds to Furniture\n",
            "Label 9 corresponds to Hardware\n",
            "Label 10 corresponds to Health & Beauty\n",
            "Label 11 corresponds to Home & Garden\n",
            "Label 12 corresponds to Luggage & Bags\n",
            "Label 13 corresponds to Media\n",
            "Label 14 corresponds to Office Supplies\n",
            "Label 15 corresponds to Religious & Ceremonial\n",
            "Label 16 corresponds to Software\n",
            "Label 17 corresponds to Sporting Goods\n",
            "Label 18 corresponds to Toys & Games\n",
            "Label 19 corresponds to Vehicles & Parts\n"
          ]
        }
      ],
      "source": [
        "# printing each integer label and its corresponding name label\n",
        "for i, label in enumerate(labels_names):\n",
        "  print(\"Label\", i, \"corresponds to\", label)"
      ]
    },
    {
      "cell_type": "code",
      "execution_count": 41,
      "metadata": {
        "colab": {
          "base_uri": "https://localhost:8080/"
        },
        "id": "bWd2Rfp69X8g",
        "outputId": "4c1729cd-ecd1-4b94-cae3-7569d95c4635"
      },
      "outputs": [
        {
          "output_type": "stream",
          "name": "stdout",
          "text": [
            "Number of samples in training set: 4216\n",
            "Number of samples in validation set: 527\n",
            "Number of samples in test set: 527\n"
          ]
        }
      ],
      "source": [
        "# splitting dataset to train, validation, and test dataframes\n",
        "train_df, test_df= train_test_split(dataset, test_size=0.2, random_state=42)\n",
        "val_df = test_df.sample(frac=0.5)\n",
        "test_df.drop(val_df.index, inplace=True)\n",
        "\n",
        "print(f\"Number of samples in training set: {len(train_df)}\")\n",
        "print(f\"Number of samples in validation set: {len(val_df)}\")\n",
        "print(f\"Number of samples in test set: {len(test_df)}\")\n",
        "\n",
        "# extracting texts and labels from dataframes\n",
        "train_texts = train_df['text']\n",
        "train_labels = train_df['label_int']\n",
        "val_texts = val_df['text']\n",
        "val_labels = val_df['label_int']\n",
        "test_texts = test_df['text']\n",
        "test_labels = test_df['label_int']"
      ]
    },
    {
      "cell_type": "code",
      "execution_count": 42,
      "metadata": {
        "colab": {
          "base_uri": "https://localhost:8080/"
        },
        "id": "C4kA4X60zkC3",
        "outputId": "bcc37e06-b173-48b4-938c-7d1cf88cc91b"
      },
      "outputs": [
        {
          "output_type": "stream",
          "name": "stdout",
          "text": [
            "Texts: [b'housie tambola game by brands with foldable reusable tickets snooplay 13 17 year olds 18 years above 251 500 8 12 year olds age no bar all time favourite below 1000 below 400 below 500 best selling board games creative games gifts customer favourites diwali family friends night family games friends family nights geek gifts for boys gifts for friends gifts for girls gifts for kids gifts for parents googleshopping nerd or geek new new collection outdoor games party accessories party essentials party freak party games party games for grown ups party games for kids premium unique new toys '\n",
            " b'foldable waterproof raised dog bed dogiti '\n",
            " b'quadrello di bufala cheese cut wrapped by igourmet category cheese cut cheeses milk type buffalo nutrition full set origin italy shipping perishable texture semi soft type stinky and washed rind wholesale cheese collection '\n",
            " b'quay vip pink navy to pink lens quay accessories new summer sunglasses '\n",
            " b'seachem multitest ammonia seachem '\n",
            " b'smart electric cat teasing toy pet clever cat toys cats rr track catproducts rr track cattoys '\n",
            " b'petroleum mixture sign the sign shed black text chemical chemical signs flammable signs general hazard portrait yellow bg '\n",
            " b'scott kingery andrew mccutchen philadelphia phillies ring the bell dual bobblehead foco data athlete andrew mccutchen data athlete scott kingery data city philadelphia data edition exclusive data filter collection no data filter discount yes data league mlb data region pennsylvania data sub category1 bobbleheads data team philadelphia phillies '\n",
            " b'diy personalised dreamcatcher activity kit sea animal doxbox store '\n",
            " b'dainty corduroy bow in lilac sweet first love bow corduroy headband purple spo disabled wos '\n",
            " b'new bts stylish backpack the pocket store '\n",
            " b'planet bike big buck fat front planet bike bicycle fenders bike accessories bikes fenders front fenders full price planet bike unisex '\n",
            " b'ms. better trans canada bitters enterprises jesemi inc. betters canada ms trans '\n",
            " b'drawstring backpack pink zig zag yoobi 10 15 2020 primedaydeal accessories all bags flair back to school backpacks bags bf2019 book bag book bags bookbag bookbags newyear pink pink zig zag sale summer2020 supplybundle zig zags '\n",
            " b'pineapple mini food speaker magnum brands add on birthday gift girl music pos speaker '\n",
            " b'interactive iq treat ball toy for dogs cats cj feeder waterer pet supplies '\n",
            " b'whisper of lord ganesha tarot deck u.s. games '\n",
            " b'handcrafted aasha cuff bracelet colorful cuff bracelet made with wooden beads wrapped with recycled sari fabrics. aasha bracelet comfy fair trade handcrafted handmade jewelry '\n",
            " b'idrop belik facial anti aging wrinkle ultrasonic face massager toothbrush attachment idrop anti aging anti wrinkle electric massager face massage facial massager health health beauty health fitness health care healthcare healthy healthy massager massage massager new ultrasonic '\n",
            " b'wood nativity puzzle mud pie one coas 10760023 baby children christmas gift god jesus kid religion toy '\n",
            " b'p.l.a.y. zoomierex fantastug sea foam dog toy p.l.a.y. brand p.l.a.y. summer collection toy type fetch toy type floating toy type rubber toy type tug twr '\n",
            " b'wallis simpson signed autobiography paul fraser collectibles autographs '\n",
            " b'imperial earring daya jewelry brass flower gold imperial spo default spo disabled spo enabled star tribal '\n",
            " b'armadillo nest charcoal armadillo alfresco armadillo door mats down to earth floor homeware homeware rugs mats labour weekend living modern boho rug rugs mats '\n",
            " b'millie pillow foreside pillows textiles '\n",
            " b'jelly brush aprilskin.us all '\n",
            " b'alarm you re little bitch blue blue blue crew cute exclude feed agegroup adult feed cl0 regularprice womens sassy funny words inappropriate cute profanity swear words exclude rude crude feed color blue feed cond new feed gender feed gender female feed gpc 209 funny inappropriate print profanity red regularprice rude crude sassy socks swear words womens words '\n",
            " b'boutique de paris lashes4today glamorous lashes luxury '\n",
            " b'dog pakiet dnp pc skin support pick me pets brand dolina noteci category pet supplies type dog food '\n",
            " b'plaza weekend diaper bag 7am label final sale addswatchrow adult age adult category diaper bags category weekenders color black color grey diaper diaper diaper ba dipper style plaza bag voyage '\n",
            " b'water sterling silver necklace wear the peace 925 sterling silver all products necklaces new arrivals '\n",
            " b'bain ultra violet rastase adha2020 adjusted assaad back in stock items bahaa black friday 2020 enabled blond absolu blondabsolu ramadan21 btpcat main 132768825422 btpcat other 132768825422 elian dada fadia el mendelek for colored blond hair hair care haircare summerfiesta sale jan 4 2021 price increase july 28th updated july increase ker aprist1st 2021 increase ker august 2021 price increase ker march 1st 2021 price increase ker priceincrease june1st 2021 kerastase ramadan21 rastase loolia2y mahmoud al zarif michel zeytoun non solar october 1st 2020 price increase or or reviews ppd price decrease 16th september 2021 ppd price decrease sept 2021 ppd price increase october1st 2021 ppd pricedecrease midseptember2021 ppd priceincrease 12th october 2021 price updated shampoos shant tawetian shop all stockcount 31 03 2021 weekend summerfiesta sale '\n",
            " b'braided bone orange tall tails brand tall tails pet dogs price $20.00 $29.99 type interactive toys '\n",
            " b'police digital cuddle blue line lincoln lexi fabric sale fabric '\n",
            " b'the bystander dvd cchf children dvd dvd childrens ntbita '\n",
            " b'men canvas tri fold short wallet coin holder card holder textured wallet bg men bags wallets '\n",
            " b'ndur mini cookware kit alcohol burner proforce equipment alcohol stove bushcraft cooking kit bushcraft cookware camp cooking kit camp cookware cook kit cook set cooking pot cookware survival cooking survival cooking kit survival cookware '\n",
            " b'indoor silent stationary spinning bike clearance private label age group null brand private label category cardio category cardio machines category exercise fitness category exercise bikes category sporting goods color condition new open box return config automatic warranties config clearance discount gender is bundle false multipack 0 nav category sporting goods exercise fitness cardio cardio machines exercise bikes nav clearance nav first cat sporting goods nav last chance no po box over 100 pattern size warranty 30 days '\n",
            " b'ken ultra premium egg yolk flake ken fish food flake food kens kens ultra '\n",
            " b'tillak soto regulator stove pouch shella cup storage case durable and water resistant cordura fabric compatible with iwatani junior compact burners black goods of japan camp kitchen '\n",
            " b'ic berlin thomas a. men eyeglasses ic berlin eyeglasses ic berlin men eyeglasses '\n",
            " b'assam silk feel maroon colour digital village print fabric 2222 assam silk feel prints attribute set name migration fabric base unit cm base unit min 100 by prints types by silk premium category by prints types category by prints types design category by prints types design village category by prints types prints category by prints types prints silk prints category by prints types type category by prints types type digital category by silk premium category by silk premium premium prints category by silk premium premium prints assam silk feel prints colour maroon design digital dimension width 1.12 meter 44 inches display colour maroon display unit meter ex pdm fabric weight light weight gender women generic name fabric googleproductcategory apparel accessories clothing gst inclusive 5 id 2222 lining suggested yes material assam silk feel mm1 maroon fabrics maroon shades tones new root category occassion festival social events premium prints prints product hsn code 520811 quality pure silk prints sold by length type type digital type printed unit meter usage anarkali usage blouse usage crop top usage female shirt usage kimono shirt usage kurta usage kurti usage palazzo usage saree usage saree pallu usage skirt usage top usage tunic village washing care gentle wash in cold water width 1.12 meter 44 inches '\n",
            " b'burgundy miniature backpack mostafa hanafy all backpack mini backpacks new arrivals sale '\n",
            " b'otay toque black kriscollins black otay pre order swatch navy otay toque navy swatch royalblue otay toque royal '\n",
            " b'dukes county international cricket ball dukes brand dukes brand dukes '\n",
            " b'instant foot spa spray amazing lola foot health health beauty instant spa spray '\n",
            " b'fleece midlayer top simms fall 19 fishing fishing clothing fishing ls shirts locally simms orange unisex '\n",
            " b'horseshoe bit serving tray vagabond house 1 10 2011 equestrian equestrian 1 feed cl0 equestrian setof1 trays vagabond house '\n",
            " b'custom match point volleyball baden sports any indoor outdoor machine stitched official synthetic leather '\n",
            " b'soft book teether set petit collage soft book soft toy wooden '\n",
            " b'tantrik sambhog aur samadhi empty canvas books book contemporary fiction hindi paperback penguin random house spreadr hidden unedit '\n",
            " b'microsoft filler license open license microsoft '\n",
            " b'nfl rico industries bling chrome license plate frame with glitter accent new... rico industries 12.25 inches accent afco afco au afco aub00j10lv9o bling chrome color fcgl1401 featured from research featured item frame giants glitter industries license new nfl plate price 20 rico ship to us team with york '\n",
            " b'sunrise bow tie puccissime pet couture handmade dog accessories luxury dog products pet supplies '\n",
            " b'cape verde framed canvas iluka road category art category clearance category decor category paintings free freight latest item range contemporary furniture '\n",
            " b'various small books referencing various small books by ed ruscha lacma store '\n",
            " b'smartykat tassel and ball thwapper teaser cat toy smartykat adult cat toys catnip toys flitz green less than 1000 less than 2000 less than 500 marketing smartykat '\n",
            " b'gouguenheim sparkling malbec ros mutual distributing argentina easter 21 malbec rose sparkling summer2020 '\n",
            " b'magical symbols alphabets by sandra kynes skull barrel co. bmagsym books mystical books paperback books symbology books '\n",
            " b'no orange blue shampoo or mask fanola concerns brass favorites hair style balayage babylights ombre highlights hair type coily curly straight wavy thick fine virgin brunette ingredients cruelty free shampoo type shampoo '\n",
            " b'stamped silver hair forks tiffany stone dendritic opal jasper or lace agate la femme boheme hair fork ooak ready to ship '\n",
            " b'north fork ripstop series alpine division duffle grey jetti '\n",
            " b'modernist pencil set rifle paper co. non sale '\n",
            " b'comfortable donut cuddler round dog bed dogiti '\n",
            " b'cheesy jalape popcorn jody popcorn bags cheesy jalapeno flavor savory savory size bag '\n",
            " b'lettia memory foam clik all purpose girth lettia dropship union girths horse new tack '\n",
            " b'saltygirl beauty multi stick melissa saltygirl beauty '\n",
            " b'bommalata hathi earrings zola accessories bharmiben jeevan fashion earrings fashion jewelry hand wash jewellery jewelry under 1500 necklace rs.501 rs.1000 zola '\n",
            " b'gemma nutella wedge bootie cecelia boots booties cecelia wedges '\n",
            " b'cat laser toys 8blue automatic cat laser toy cat laser toy haley interactive laser cat toy '\n",
            " b'oligarch vodka oligarch category spirits oligarch region russia size 750ml vodka '\n",
            " b'amelia dome ring kinn anniversary sale 10.21 diamond collection dome ring eligible for discount faire gemstone herringbone collection holiday 2021 kinn classics ring '\n",
            " b'leopard hoodie dog sweater dogo brown dog sweaters dogo m under $100 under $150 under $200 under $250 under $50 under $75 xl xs xxl xxs '\n",
            " b'island mimosa body wash hand in hand soap no dropship '\n",
            " b'bravado designs plunge nursing bra antique white bravado designs hospital mama new mom price hk$401 hk$500 product type hands free pumping product type pumping bra '\n",
            " b'shopping bag tote pouch women travel storage handbag shoulder bag stripes canvas shopping bags bg handbags women bags '\n",
            " b'charcoal bedford felt backpack graf lantz back to felt backpack charcoal family bedford gender womens jetti material felt normal shipping 2 3 weeks the accessories edit waitlist ygroup bedfordbackpackfelt '\n",
            " b'green plant bronx flower delivery add plants size '\n",
            " b'wtn rotting in pestilence cd album nm or leora colby album cd death metal grindcore rock '\n",
            " b'aurelia ladies technical riding jacket premier equine int. collection ladies waterproof riding coats jackets gilets collection equestrian clothing collection ladies riding fleeces hoodies colour blue colour grey hs2code 6202930000 hs2codeus 6202.93.0911 icon breathable icon ykk zip sizeguide jackets gilets6up tradepriceexvat 2200 tradepriceincvat 2640 '\n",
            " b'tribeca ottoman charcoal with dark base medium darcy and duke category chairs and seating category furniture category ottomans and footstools latest item range contemporary furniture range manhattan apartment '\n",
            " b'rumi pants army lozyhijab bahan cotton color green kategori pants '\n",
            " b'urban color love me matte lipcolor exotic tangerine kk beauty beauty product lip colour makeup matte modicare urban color women worldshopon '\n",
            " b'royal princess pink wooden dresser toy with make up set my aashis furniture kids furniture kids playroom furniture '\n",
            " b'end cap billet grooved chrome for harley davidson supertrapp custom chrome escapes harley davidson '\n",
            " b'yoke dress virgo lilac oliphantdesign dresses favorite things featured collection size xl size xxs ss2021 vacation women '\n",
            " b'astronaut jellyfish wall hanging tapestry minideals store astronaut jellyfish space tapestry wall hanging '\n",
            " b'pioneer children sang as they walked marvin goldstein single cedar fort publishing media '\n",
            " b'sphero ultimate lightning mcqueen sphero mob remote sphero '\n",
            " b'shibari you can use more shibari you can use two book set the twisted monk books intermediate starting out '\n",
            " b'kitsu earrings sunflower hoops kitsu '\n",
            " b'waterproof triangle bike bicycle bag cycling front bag bicycle pouch frame bags bicycle accessories not include water bottle nz outdoors '\n",
            " b'banarasee brocade fabric with zari resham jaal blue banarasee art silk blue '\n",
            " b'gorsedd dining table acme furniture dining room dining table home '\n",
            " b'keepcup ly th tinh gi nhi longplay banksia keepcup clear edition keepcup longplay banksia 16oz mugs reuseable cup '\n",
            " b'mirage created emerald and black diamond set stud earrings in sterling silver bevilles buying for her category earrings department diamond diamond clarity i2 3 diamond colour i discount product earring style stud eligible for last chance discount eligible for last wow club eligible for new member discount fastdelivery gemstone diamond gemstone emerald metal sterling silver mirage personality traditional sku 9s19001 skuadded spend and save vipprice wgproducts '\n",
            " b'elizabeth sand indoor outdoor rug dash and albert beige rug beige rugs brown dash albert dash and albert dropship geometric geometric rug geometric rugs indoor ivory ivory rug ivory rugs khaki rug khaki rugs mc rugs neutral neutral rug neutral rugs outdoor outdoor rug outdoor rugs rug sand '\n",
            " b'chelsea casual suede top boots jonally boots shoes '\n",
            " b'easyrest microplush quilt easyrest bedding quilts duvets easyrest microfibre size double size single summer '\n",
            " b'becca cosmetics liquid light highlight kit becca cosmetics becca cosmetics cosmetics gift bar gifts gifts palettes holiday holiday sets lip gloss '\n",
            " b'aquatopia led air volcano aquatopia '\n",
            " b'oliver goldsmith cole oliver goldsmith acetate men progressive friendly rectangular rx lens suitable 200 to 400 '\n",
            " b'dpa fine single ear wireless headset microphone rental beige dpa corporate event rentals lavalier mic microphone rentals seminar conference '\n",
            " b'heartbreaking dawns jalape pineapple heartbreaking dawns all fruit based citrus fruit based gluten free habanero heartbreaking dawns jalapeno lime mild pineapple '\n",
            " b'chloe crystal clutch chloe bag bead beads bejeweled black black gold black white chain chloe chloe clutch chloe crystal clutch cloe club clubbing clutch couture cross body crossbody crystal crystal clutch crystals elegance elegant evening evening wear favorite feminine girl girls girly glitter glittery glitz gold golden handbag jewels leather luxurious luxury new years nye party pearl pearls purse shoulder bag silver sophisticated sophistication strap synthetic leather tassel tassels zipped zipper '\n",
            " b'naisha at the museum bibliophiles 12 18 months 18 24 months 24 months bibliophiles others paperback picture books '\n",
            " b'rubber tire chew toy chetitay official store dog pet toy '\n",
            " b'b swiss wisdom star bb face spoon set swiss brand h swiss avg profit 20 avg profit percent 40 h swiss baby items baby items dahsing level 1 baby toddler not brandsdis not on sale not regular priced optimise 8off overseas ads price quote '\n",
            " b'craig portable power bank with dual usb charging port craig '\n",
            " b'oriflamme ablaze pre order studio availability pre order newproduct product type board games '\n",
            " b'callum short navy blazer diesel mens shorts ss22 '\n",
            " b'led safety blinkers knuckle lights '\n",
            " b'baozi shearling span t.di.moro dark grey span elleme baozi '\n",
            " b'neutral stripe contemporary rug modernica props contemporary grey wool '\n",
            " b'aviation movie creators pack alan walker store asia all digital '\n",
            " b'women burton talent scout camber snowboard burton cf size 141 cf size 146 cf size 152 cf vendor burton '\n",
            " b'nevy lace front wig free part love for bling boutique '\n",
            " b'convertible leather briefcase backpack handmade world backpack book bag casual daypack crossbody bag ipad tablet bag knapsack laptop bag messenger bag satchel bag '\n",
            " b'profusion cosmetics highlight contour palette ii profusion cosmetics normal price '\n",
            " b'gaming chair with footrest green faux leather vidaxl 250 500 green ']\n",
            "labels: [18  0  7  1  0  0  4  2  0  1 12 17  7 12 18  0 15  1 10 18  0  2  1 11\n",
            "  2  9  1 10  0 12  1 10  0  3  6 12 11 17  0 17 10  2 12  1 17 10 17 17\n",
            " 17 18 13 16 17  0 11 13  0  7 13 10  1 12 14  0  7 17 10  1  1  0  7  1\n",
            "  0 10  3 12 12 11 13  1  8  1 10  8 19  1 11 13  6 13  1 17  2  8 11  1\n",
            " 11  1 11 10  0 10  6  7 12 13  0  3  6 18  1 17  1  2 16 17  1 12 10  8]\n"
          ]
        }
      ],
      "source": [
        "# creating data generators with batch size 32\n",
        "batch_size = 120\n",
        "raw_train_batch = tf.data.Dataset.from_tensor_slices((train_texts, train_labels)).batch(batch_size)\n",
        "raw_val_batch = tf.data.Dataset.from_tensor_slices((val_texts, val_labels)).batch(batch_size)\n",
        "raw_test_batch = tf.data.Dataset.from_tensor_slices((test_texts, test_labels)).batch(batch_size)\n",
        "\n",
        "# printing texts and labels of a batch of raw train\n",
        "for text, label in raw_train_batch.take(1):\n",
        "  print('Texts: {}'.format(text))\n",
        "  print('labels: {}'.format(label))"
      ]
    },
    {
      "cell_type": "code",
      "execution_count": 43,
      "metadata": {
        "colab": {
          "base_uri": "https://localhost:8080/"
        },
        "id": "P2QpUriFrsU_",
        "outputId": "8c66b62a-5045-4a55-a539-7f15db8d7684"
      },
      "outputs": [
        {
          "output_type": "stream",
          "name": "stdout",
          "text": [
            "112572\n"
          ]
        }
      ],
      "source": [
        "# counting how many words are there in the whole texts of the dataset\n",
        "num_of_words = 0\n",
        "for i in dataset['text']: num_of_words += len(i.split())\n",
        "print(num_of_words)"
      ]
    },
    {
      "cell_type": "markdown",
      "metadata": {
        "id": "wfw3CqfZsWyT"
      },
      "source": [
        "There are about 112000 words in the texts.\n",
        "\n"
      ]
    },
    {
      "cell_type": "code",
      "execution_count": 44,
      "metadata": {
        "colab": {
          "base_uri": "https://localhost:8080/"
        },
        "id": "2ufQzaF9ncqZ",
        "outputId": "e2af575f-0dd3-4e74-a462-6ba8d8f72a5d"
      },
      "outputs": [
        {
          "output_type": "stream",
          "name": "stdout",
          "text": [
            "309\n",
            "18933\n"
          ]
        }
      ],
      "source": [
        "# counting max sequence length and how many non-repetitive words are there in the whole texts of the dataset\n",
        "l = []\n",
        "max_seq_lenght = 0\n",
        "for i in dataset['text']:\n",
        "  lenght = len(i.split())\n",
        "  if lenght > max_seq_lenght: max_seq_lenght = lenght\n",
        "  for j in i.split():\n",
        "    if j not in l: l.append(j)\n",
        "\n",
        "print(max_seq_lenght)\n",
        "print(len(l))"
      ]
    },
    {
      "cell_type": "markdown",
      "metadata": {
        "id": "cGGf8rQorkSR"
      },
      "source": [
        "Maximum sequence length is 309 and There are about 19000 non-repetitive words in the whole dataset texts. So we set max word features to 10000 and sequence length to 350."
      ]
    },
    {
      "cell_type": "code",
      "execution_count": 75,
      "metadata": {
        "colab": {
          "base_uri": "https://localhost:8080/"
        },
        "id": "Ey2QJjO97T9P",
        "outputId": "a18247e3-3302-4bf7-f287-691696dfdd2f"
      },
      "outputs": [
        {
          "output_type": "stream",
          "name": "stdout",
          "text": [
            "Review tf.Tensor(b'housie tambola game by brands with foldable reusable tickets snooplay 13 17 year olds 18 years above 251 500 8 12 year olds age no bar all time favourite below 1000 below 400 below 500 best selling board games creative games gifts customer favourites diwali family friends night family games friends family nights geek gifts for boys gifts for friends gifts for girls gifts for kids gifts for parents googleshopping nerd or geek new new collection outdoor games party accessories party essentials party freak party games party games for grown ups party games for kids premium unique new toys ', shape=(), dtype=string)\n",
            "Label tf.Tensor(18, shape=(), dtype=int8)\n",
            "Vectorized text (<tf.Tensor: shape=(1, 309), dtype=int64, numpy=\n",
            "array([[12501,  9229,   192,    23,   343,    51,  1546,  2392,  9089,\n",
            "         9635,   740,  1609,   275,  2882,   372,    69,   959, 15878,\n",
            "          134,   109,    89,   275,  2882,    35,    55,   381,    16,\n",
            "          480,  7346,   783,   181,   783,   961,   783,   134,    79,\n",
            "         2792,   104,    57,  1195,    57,    53,  3072, 13287,  5047,\n",
            "          237,  1078,   716,   237,    57,  1078,   237,  6529,  4896,\n",
            "           53,    13,   334,    53,    13,  1078,    53,    13,   179,\n",
            "           53,    13,    62,    53,    13,  3473, 12859, 11174,   303,\n",
            "         4896,     3,     3,     8,   157,    57,   250,    17,   250,\n",
            "          316,   250,  7261,   250,    57,   250,    57,    13,  1904,\n",
            "         5674,   250,    57,    13,    62,   360,   632,     3,     6,\n",
            "            0,     0,     0,     0,     0,     0,     0,     0,     0,\n",
            "            0,     0,     0,     0,     0,     0,     0,     0,     0,\n",
            "            0,     0,     0,     0,     0,     0,     0,     0,     0,\n",
            "            0,     0,     0,     0,     0,     0,     0,     0,     0,\n",
            "            0,     0,     0,     0,     0,     0,     0,     0,     0,\n",
            "            0,     0,     0,     0,     0,     0,     0,     0,     0,\n",
            "            0,     0,     0,     0,     0,     0,     0,     0,     0,\n",
            "            0,     0,     0,     0,     0,     0,     0,     0,     0,\n",
            "            0,     0,     0,     0,     0,     0,     0,     0,     0,\n",
            "            0,     0,     0,     0,     0,     0,     0,     0,     0,\n",
            "            0,     0,     0,     0,     0,     0,     0,     0,     0,\n",
            "            0,     0,     0,     0,     0,     0,     0,     0,     0,\n",
            "            0,     0,     0,     0,     0,     0,     0,     0,     0,\n",
            "            0,     0,     0,     0,     0,     0,     0,     0,     0,\n",
            "            0,     0,     0,     0,     0,     0,     0,     0,     0,\n",
            "            0,     0,     0,     0,     0,     0,     0,     0,     0,\n",
            "            0,     0,     0,     0,     0,     0,     0,     0,     0,\n",
            "            0,     0,     0,     0,     0,     0,     0,     0,     0,\n",
            "            0,     0,     0,     0,     0,     0,     0,     0,     0,\n",
            "            0,     0,     0,     0,     0,     0,     0,     0,     0,\n",
            "            0,     0,     0,     0,     0,     0,     0,     0,     0,\n",
            "            0,     0,     0,     0,     0,     0,     0,     0,     0,\n",
            "            0,     0,     0,     0,     0,     0,     0,     0,     0,\n",
            "            0,     0,     0]])>, <tf.Tensor: shape=(), dtype=int8, numpy=18>)\n"
          ]
        }
      ],
      "source": [
        "# setting the text vectorization layer with 10000 words and 350 sequence length\n",
        "max_features = 19000\n",
        "sequence_length = 309\n",
        "\n",
        "vectorize_layer = layers.TextVectorization(\n",
        "    max_tokens=max_features,\n",
        "    output_mode='int',\n",
        "    output_sequence_length=sequence_length)\n",
        "\n",
        "# fitting the state of the preprocessing layer to the train set. This will cause the model to build an index of strings to integers.\n",
        "vectorize_layer.adapt(train_texts)\n",
        "\n",
        "# defining the vectorize text function\n",
        "def vectorize_text(text, label):\n",
        "  text = tf.expand_dims(text, -1)\n",
        "  return vectorize_layer(text), label\n",
        "\n",
        "# retrieving a sample from a batch of texts and labels from the train set\n",
        "text_batch, label_batch = next(iter(raw_train_batch))\n",
        "first_review, first_label = text_batch[0], label_batch[0]\n",
        "print(\"Review\", first_review)\n",
        "print(\"Label\", first_label)\n",
        "print(\"Vectorized text\", vectorize_text(first_review, first_label))"
      ]
    },
    {
      "cell_type": "code",
      "execution_count": 76,
      "metadata": {
        "colab": {
          "base_uri": "https://localhost:8080/"
        },
        "id": "X84dkB768GSx",
        "outputId": "3f60a8a4-dbd9-46b4-d1fb-c013352e66cf"
      },
      "outputs": [
        {
          "output_type": "stream",
          "name": "stdout",
          "text": [
            "1401 --->  heel\n",
            " 313 --->  is\n",
            "Vocabulary size: 16230\n"
          ]
        }
      ],
      "source": [
        "# getting corresponding word of each integer \n",
        "print(\"1401 ---> \",vectorize_layer.get_vocabulary()[1401])\n",
        "print(\" 313 ---> \",vectorize_layer.get_vocabulary()[313])\n",
        "print('Vocabulary size: {}'.format(len(vectorize_layer.get_vocabulary())))"
      ]
    },
    {
      "cell_type": "code",
      "execution_count": 77,
      "metadata": {
        "id": "DiW717GQ_77D"
      },
      "outputs": [],
      "source": [
        "# creating train, val, and test vectorized dataset and prefetching them\n",
        "train_ds = raw_train_batch.map(vectorize_text)\n",
        "val_ds = raw_val_batch.map(vectorize_text)\n",
        "test_ds = raw_test_batch.map(vectorize_text)\n",
        "\n",
        "AUTOTUNE = tf.data.AUTOTUNE\n",
        "\n",
        "train_ds = train_ds.cache().prefetch(buffer_size=AUTOTUNE)\n",
        "val_ds = val_ds.cache().prefetch(buffer_size=AUTOTUNE)\n",
        "test_ds = test_ds.cache().prefetch(buffer_size=AUTOTUNE)"
      ]
    },
    {
      "cell_type": "code",
      "execution_count": 91,
      "metadata": {
        "id": "BBHmGG_SAWhp"
      },
      "outputs": [],
      "source": [
        "# model configuration\n",
        "embedding_dim = 256\n",
        "num_of_labels = 20\n",
        "\n",
        "model = tf.keras.Sequential([\n",
        "  layers.Embedding(max_features + 1, embedding_dim),\n",
        "  layers.Dropout(0.15),\n",
        "  layers.GlobalAveragePooling1D(),\n",
        "  layers.Dropout(0.20),\n",
        "  layers.Dense(num_of_labels)])\n"
      ]
    },
    {
      "cell_type": "code",
      "execution_count": 92,
      "metadata": {
        "id": "uL6c-YGfAwLz"
      },
      "outputs": [],
      "source": [
        "# model compilation\n",
        "model.compile(optimizer='adam',\n",
        "              loss=tf.keras.losses.SparseCategoricalCrossentropy(from_logits=True),\n",
        "              metrics=['accuracy'])"
      ]
    },
    {
      "cell_type": "code",
      "execution_count": null,
      "metadata": {
        "colab": {
          "base_uri": "https://localhost:8080/"
        },
        "id": "CIfmPA3SvX4d",
        "outputId": "a7e453fc-670d-49dc-9556-8a0e55c33e8c"
      },
      "outputs": [
        {
          "output_type": "stream",
          "name": "stdout",
          "text": [
            "Epoch 1/500\n",
            "36/36 [==============================] - 6s 139ms/step - loss: 2.8883 - accuracy: 0.1622 - val_loss: 2.7853 - val_accuracy: 0.1784\n",
            "Epoch 2/500\n",
            "36/36 [==============================] - 0s 9ms/step - loss: 2.7160 - accuracy: 0.1881 - val_loss: 2.6920 - val_accuracy: 0.1784\n",
            "Epoch 3/500\n",
            "36/36 [==============================] - 0s 8ms/step - loss: 2.6694 - accuracy: 0.1881 - val_loss: 2.6736 - val_accuracy: 0.1784\n",
            "Epoch 4/500\n",
            "36/36 [==============================] - 0s 8ms/step - loss: 2.6575 - accuracy: 0.1881 - val_loss: 2.6618 - val_accuracy: 0.1784\n",
            "Epoch 5/500\n",
            "36/36 [==============================] - 0s 8ms/step - loss: 2.6467 - accuracy: 0.1883 - val_loss: 2.6515 - val_accuracy: 0.1784\n",
            "Epoch 6/500\n",
            "36/36 [==============================] - 0s 8ms/step - loss: 2.6360 - accuracy: 0.1886 - val_loss: 2.6410 - val_accuracy: 0.1803\n",
            "Epoch 7/500\n",
            "36/36 [==============================] - 0s 8ms/step - loss: 2.6225 - accuracy: 0.1886 - val_loss: 2.6291 - val_accuracy: 0.1803\n",
            "Epoch 8/500\n",
            "36/36 [==============================] - 0s 8ms/step - loss: 2.6070 - accuracy: 0.1888 - val_loss: 2.6149 - val_accuracy: 0.1860\n",
            "Epoch 9/500\n",
            "36/36 [==============================] - 0s 8ms/step - loss: 2.5899 - accuracy: 0.1898 - val_loss: 2.5987 - val_accuracy: 0.1860\n",
            "Epoch 10/500\n",
            "36/36 [==============================] - 0s 8ms/step - loss: 2.5692 - accuracy: 0.1924 - val_loss: 2.5799 - val_accuracy: 0.1860\n",
            "Epoch 11/500\n",
            "36/36 [==============================] - 0s 8ms/step - loss: 2.5445 - accuracy: 0.1971 - val_loss: 2.5580 - val_accuracy: 0.1860\n",
            "Epoch 12/500\n",
            "36/36 [==============================] - 0s 9ms/step - loss: 2.5189 - accuracy: 0.2085 - val_loss: 2.5337 - val_accuracy: 0.1935\n",
            "Epoch 13/500\n",
            "36/36 [==============================] - 0s 8ms/step - loss: 2.4868 - accuracy: 0.2163 - val_loss: 2.5058 - val_accuracy: 0.2068\n",
            "Epoch 14/500\n",
            "36/36 [==============================] - 0s 8ms/step - loss: 2.4510 - accuracy: 0.2298 - val_loss: 2.4758 - val_accuracy: 0.2296\n",
            "Epoch 15/500\n",
            "36/36 [==============================] - 0s 8ms/step - loss: 2.4132 - accuracy: 0.2476 - val_loss: 2.4424 - val_accuracy: 0.2372\n",
            "Epoch 16/500\n",
            "36/36 [==============================] - 0s 8ms/step - loss: 2.3722 - accuracy: 0.2616 - val_loss: 2.4076 - val_accuracy: 0.2486\n",
            "Epoch 17/500\n",
            "36/36 [==============================] - 0s 8ms/step - loss: 2.3281 - accuracy: 0.2787 - val_loss: 2.3698 - val_accuracy: 0.2600\n",
            "Epoch 18/500\n",
            "36/36 [==============================] - 0s 8ms/step - loss: 2.2796 - accuracy: 0.3034 - val_loss: 2.3307 - val_accuracy: 0.2770\n",
            "Epoch 19/500\n",
            "36/36 [==============================] - 0s 8ms/step - loss: 2.2316 - accuracy: 0.3280 - val_loss: 2.2901 - val_accuracy: 0.2979\n",
            "Epoch 20/500\n",
            "36/36 [==============================] - 0s 8ms/step - loss: 2.1806 - accuracy: 0.3593 - val_loss: 2.2486 - val_accuracy: 0.3093\n",
            "Epoch 21/500\n",
            "36/36 [==============================] - 0s 8ms/step - loss: 2.1297 - accuracy: 0.3916 - val_loss: 2.2060 - val_accuracy: 0.3283\n",
            "Epoch 22/500\n",
            "36/36 [==============================] - 0s 9ms/step - loss: 2.0750 - accuracy: 0.4288 - val_loss: 2.1636 - val_accuracy: 0.3662\n",
            "Epoch 23/500\n",
            "36/36 [==============================] - 0s 8ms/step - loss: 2.0209 - accuracy: 0.4604 - val_loss: 2.1209 - val_accuracy: 0.3814\n",
            "Epoch 24/500\n",
            "36/36 [==============================] - 0s 8ms/step - loss: 1.9673 - accuracy: 0.4967 - val_loss: 2.0779 - val_accuracy: 0.4099\n",
            "Epoch 25/500\n",
            "36/36 [==============================] - 0s 9ms/step - loss: 1.9115 - accuracy: 0.5294 - val_loss: 2.0355 - val_accuracy: 0.4288\n",
            "Epoch 26/500\n",
            "36/36 [==============================] - 0s 10ms/step - loss: 1.8586 - accuracy: 0.5610 - val_loss: 1.9938 - val_accuracy: 0.4649\n",
            "Epoch 27/500\n",
            "36/36 [==============================] - 0s 10ms/step - loss: 1.8044 - accuracy: 0.5899 - val_loss: 1.9528 - val_accuracy: 0.4972\n",
            "Epoch 28/500\n",
            "36/36 [==============================] - 0s 9ms/step - loss: 1.7499 - accuracy: 0.6155 - val_loss: 1.9125 - val_accuracy: 0.5218\n",
            "Epoch 29/500\n",
            "36/36 [==============================] - 0s 10ms/step - loss: 1.6988 - accuracy: 0.6433 - val_loss: 1.8728 - val_accuracy: 0.5560\n",
            "Epoch 30/500\n",
            "36/36 [==============================] - 0s 8ms/step - loss: 1.6456 - accuracy: 0.6689 - val_loss: 1.8343 - val_accuracy: 0.5769\n",
            "Epoch 31/500\n",
            "36/36 [==============================] - 0s 8ms/step - loss: 1.5952 - accuracy: 0.6883 - val_loss: 1.7952 - val_accuracy: 0.5901\n",
            "Epoch 32/500\n",
            "36/36 [==============================] - 0s 8ms/step - loss: 1.5449 - accuracy: 0.7137 - val_loss: 1.7584 - val_accuracy: 0.6053\n",
            "Epoch 33/500\n",
            "36/36 [==============================] - 0s 8ms/step - loss: 1.4942 - accuracy: 0.7294 - val_loss: 1.7232 - val_accuracy: 0.6129\n",
            "Epoch 34/500\n",
            "36/36 [==============================] - 0s 9ms/step - loss: 1.4483 - accuracy: 0.7460 - val_loss: 1.6875 - val_accuracy: 0.6262\n",
            "Epoch 35/500\n",
            "36/36 [==============================] - 0s 8ms/step - loss: 1.3997 - accuracy: 0.7602 - val_loss: 1.6541 - val_accuracy: 0.6376\n",
            "Epoch 36/500\n",
            "36/36 [==============================] - 0s 8ms/step - loss: 1.3564 - accuracy: 0.7740 - val_loss: 1.6210 - val_accuracy: 0.6528\n",
            "Epoch 37/500\n",
            "36/36 [==============================] - 0s 8ms/step - loss: 1.3116 - accuracy: 0.7839 - val_loss: 1.5891 - val_accuracy: 0.6698\n",
            "Epoch 38/500\n",
            "36/36 [==============================] - 0s 8ms/step - loss: 1.2714 - accuracy: 0.7941 - val_loss: 1.5582 - val_accuracy: 0.6736\n",
            "Epoch 39/500\n",
            "36/36 [==============================] - 0s 8ms/step - loss: 1.2286 - accuracy: 0.8003 - val_loss: 1.5288 - val_accuracy: 0.6850\n",
            "Epoch 40/500\n",
            "36/36 [==============================] - 0s 8ms/step - loss: 1.1899 - accuracy: 0.8145 - val_loss: 1.5004 - val_accuracy: 0.6888\n",
            "Epoch 41/500\n",
            "36/36 [==============================] - 0s 8ms/step - loss: 1.1509 - accuracy: 0.8226 - val_loss: 1.4725 - val_accuracy: 0.6983\n",
            "Epoch 42/500\n",
            "36/36 [==============================] - 0s 8ms/step - loss: 1.1128 - accuracy: 0.8295 - val_loss: 1.4468 - val_accuracy: 0.7002\n",
            "Epoch 43/500\n",
            "36/36 [==============================] - 0s 8ms/step - loss: 1.0768 - accuracy: 0.8385 - val_loss: 1.4202 - val_accuracy: 0.7040\n",
            "Epoch 44/500\n",
            "36/36 [==============================] - 0s 8ms/step - loss: 1.0432 - accuracy: 0.8439 - val_loss: 1.3963 - val_accuracy: 0.7154\n",
            "Epoch 45/500\n",
            "36/36 [==============================] - 0s 8ms/step - loss: 1.0077 - accuracy: 0.8553 - val_loss: 1.3720 - val_accuracy: 0.7173\n",
            "Epoch 46/500\n",
            "36/36 [==============================] - 0s 8ms/step - loss: 0.9779 - accuracy: 0.8584 - val_loss: 1.3496 - val_accuracy: 0.7249\n",
            "Epoch 47/500\n",
            "36/36 [==============================] - 0s 8ms/step - loss: 0.9463 - accuracy: 0.8603 - val_loss: 1.3269 - val_accuracy: 0.7268\n",
            "Epoch 48/500\n",
            "36/36 [==============================] - 0s 8ms/step - loss: 0.9159 - accuracy: 0.8679 - val_loss: 1.3062 - val_accuracy: 0.7343\n",
            "Epoch 49/500\n",
            "36/36 [==============================] - 0s 8ms/step - loss: 0.8855 - accuracy: 0.8729 - val_loss: 1.2852 - val_accuracy: 0.7343\n",
            "Epoch 50/500\n",
            "36/36 [==============================] - 0s 8ms/step - loss: 0.8591 - accuracy: 0.8748 - val_loss: 1.2655 - val_accuracy: 0.7419\n",
            "Epoch 51/500\n",
            "36/36 [==============================] - 0s 8ms/step - loss: 0.8308 - accuracy: 0.8819 - val_loss: 1.2469 - val_accuracy: 0.7476\n",
            "Epoch 52/500\n",
            "36/36 [==============================] - 0s 8ms/step - loss: 0.8038 - accuracy: 0.8852 - val_loss: 1.2286 - val_accuracy: 0.7476\n",
            "Epoch 53/500\n",
            "36/36 [==============================] - 0s 8ms/step - loss: 0.7803 - accuracy: 0.8892 - val_loss: 1.2119 - val_accuracy: 0.7495\n",
            "Epoch 54/500\n",
            "36/36 [==============================] - 0s 8ms/step - loss: 0.7556 - accuracy: 0.8937 - val_loss: 1.1940 - val_accuracy: 0.7495\n",
            "Epoch 55/500\n",
            "36/36 [==============================] - 0s 8ms/step - loss: 0.7317 - accuracy: 0.8982 - val_loss: 1.1774 - val_accuracy: 0.7514\n",
            "Epoch 56/500\n",
            "36/36 [==============================] - 0s 8ms/step - loss: 0.7090 - accuracy: 0.9023 - val_loss: 1.1625 - val_accuracy: 0.7552\n",
            "Epoch 57/500\n",
            "36/36 [==============================] - 0s 8ms/step - loss: 0.6849 - accuracy: 0.9080 - val_loss: 1.1479 - val_accuracy: 0.7571\n",
            "Epoch 58/500\n",
            "36/36 [==============================] - 0s 8ms/step - loss: 0.6658 - accuracy: 0.9108 - val_loss: 1.1330 - val_accuracy: 0.7628\n",
            "Epoch 59/500\n",
            "36/36 [==============================] - 0s 8ms/step - loss: 0.6454 - accuracy: 0.9153 - val_loss: 1.1196 - val_accuracy: 0.7628\n",
            "Epoch 60/500\n",
            "36/36 [==============================] - 0s 8ms/step - loss: 0.6253 - accuracy: 0.9208 - val_loss: 1.1062 - val_accuracy: 0.7628\n",
            "Epoch 61/500\n",
            "36/36 [==============================] - 0s 9ms/step - loss: 0.6066 - accuracy: 0.9243 - val_loss: 1.0921 - val_accuracy: 0.7647\n",
            "Epoch 62/500\n",
            "36/36 [==============================] - 0s 10ms/step - loss: 0.5877 - accuracy: 0.9262 - val_loss: 1.0796 - val_accuracy: 0.7704\n",
            "Epoch 63/500\n",
            "36/36 [==============================] - 0s 10ms/step - loss: 0.5697 - accuracy: 0.9336 - val_loss: 1.0666 - val_accuracy: 0.7742\n",
            "Epoch 64/500\n",
            "36/36 [==============================] - 0s 10ms/step - loss: 0.5526 - accuracy: 0.9343 - val_loss: 1.0562 - val_accuracy: 0.7704\n",
            "Epoch 65/500\n",
            "36/36 [==============================] - 0s 9ms/step - loss: 0.5351 - accuracy: 0.9369 - val_loss: 1.0452 - val_accuracy: 0.7704\n",
            "Epoch 66/500\n",
            "36/36 [==============================] - 0s 9ms/step - loss: 0.5193 - accuracy: 0.9398 - val_loss: 1.0331 - val_accuracy: 0.7723\n",
            "Epoch 67/500\n",
            "36/36 [==============================] - 0s 8ms/step - loss: 0.5040 - accuracy: 0.9435 - val_loss: 1.0228 - val_accuracy: 0.7780\n",
            "Epoch 68/500\n",
            "36/36 [==============================] - 0s 8ms/step - loss: 0.4893 - accuracy: 0.9457 - val_loss: 1.0133 - val_accuracy: 0.7818\n",
            "Epoch 69/500\n",
            "36/36 [==============================] - 0s 9ms/step - loss: 0.4750 - accuracy: 0.9483 - val_loss: 1.0030 - val_accuracy: 0.7799\n",
            "Epoch 70/500\n",
            "36/36 [==============================] - 0s 8ms/step - loss: 0.4599 - accuracy: 0.9511 - val_loss: 0.9938 - val_accuracy: 0.7818\n",
            "Epoch 71/500\n",
            "36/36 [==============================] - 0s 8ms/step - loss: 0.4475 - accuracy: 0.9530 - val_loss: 0.9854 - val_accuracy: 0.7856\n",
            "Epoch 72/500\n",
            "36/36 [==============================] - 0s 8ms/step - loss: 0.4339 - accuracy: 0.9545 - val_loss: 0.9759 - val_accuracy: 0.7875\n",
            "Epoch 73/500\n",
            "36/36 [==============================] - 0s 8ms/step - loss: 0.4218 - accuracy: 0.9592 - val_loss: 0.9678 - val_accuracy: 0.7894\n",
            "Epoch 74/500\n",
            "36/36 [==============================] - 0s 8ms/step - loss: 0.4083 - accuracy: 0.9606 - val_loss: 0.9587 - val_accuracy: 0.7913\n",
            "Epoch 75/500\n",
            "36/36 [==============================] - 0s 8ms/step - loss: 0.3962 - accuracy: 0.9620 - val_loss: 0.9505 - val_accuracy: 0.7951\n",
            "Epoch 76/500\n",
            "36/36 [==============================] - 0s 8ms/step - loss: 0.3834 - accuracy: 0.9656 - val_loss: 0.9431 - val_accuracy: 0.7951\n",
            "Epoch 77/500\n",
            "36/36 [==============================] - 0s 8ms/step - loss: 0.3738 - accuracy: 0.9673 - val_loss: 0.9350 - val_accuracy: 0.7951\n",
            "Epoch 78/500\n",
            "36/36 [==============================] - 0s 8ms/step - loss: 0.3627 - accuracy: 0.9687 - val_loss: 0.9292 - val_accuracy: 0.7970\n",
            "Epoch 79/500\n",
            "36/36 [==============================] - 0s 8ms/step - loss: 0.3510 - accuracy: 0.9718 - val_loss: 0.9216 - val_accuracy: 0.7989\n",
            "Epoch 80/500\n",
            "36/36 [==============================] - 0s 8ms/step - loss: 0.3407 - accuracy: 0.9739 - val_loss: 0.9143 - val_accuracy: 0.7989\n",
            "Epoch 81/500\n",
            "36/36 [==============================] - 0s 8ms/step - loss: 0.3309 - accuracy: 0.9746 - val_loss: 0.9076 - val_accuracy: 0.8008\n",
            "Epoch 82/500\n",
            "36/36 [==============================] - 0s 8ms/step - loss: 0.3219 - accuracy: 0.9746 - val_loss: 0.9016 - val_accuracy: 0.8008\n",
            "Epoch 83/500\n",
            "36/36 [==============================] - 0s 8ms/step - loss: 0.3126 - accuracy: 0.9768 - val_loss: 0.8951 - val_accuracy: 0.7989\n",
            "Epoch 84/500\n",
            "36/36 [==============================] - 0s 8ms/step - loss: 0.3027 - accuracy: 0.9782 - val_loss: 0.8888 - val_accuracy: 0.8008\n",
            "Epoch 85/500\n",
            "36/36 [==============================] - 0s 8ms/step - loss: 0.2934 - accuracy: 0.9789 - val_loss: 0.8837 - val_accuracy: 0.8008\n",
            "Epoch 86/500\n",
            "36/36 [==============================] - 0s 8ms/step - loss: 0.2848 - accuracy: 0.9798 - val_loss: 0.8786 - val_accuracy: 0.7989\n",
            "Epoch 87/500\n",
            "36/36 [==============================] - 0s 8ms/step - loss: 0.2768 - accuracy: 0.9803 - val_loss: 0.8726 - val_accuracy: 0.8008\n",
            "Epoch 88/500\n",
            "36/36 [==============================] - 0s 8ms/step - loss: 0.2691 - accuracy: 0.9817 - val_loss: 0.8668 - val_accuracy: 0.8027\n",
            "Epoch 89/500\n",
            "36/36 [==============================] - 0s 8ms/step - loss: 0.2609 - accuracy: 0.9834 - val_loss: 0.8617 - val_accuracy: 0.8046\n",
            "Epoch 90/500\n",
            "36/36 [==============================] - 0s 9ms/step - loss: 0.2535 - accuracy: 0.9848 - val_loss: 0.8575 - val_accuracy: 0.8065\n",
            "Epoch 91/500\n",
            "36/36 [==============================] - 0s 8ms/step - loss: 0.2469 - accuracy: 0.9862 - val_loss: 0.8518 - val_accuracy: 0.8065\n",
            "Epoch 92/500\n",
            "36/36 [==============================] - 0s 8ms/step - loss: 0.2388 - accuracy: 0.9855 - val_loss: 0.8473 - val_accuracy: 0.8083\n",
            "Epoch 93/500\n",
            "36/36 [==============================] - 0s 8ms/step - loss: 0.2335 - accuracy: 0.9867 - val_loss: 0.8428 - val_accuracy: 0.8065\n",
            "Epoch 94/500\n",
            "36/36 [==============================] - 0s 8ms/step - loss: 0.2251 - accuracy: 0.9881 - val_loss: 0.8383 - val_accuracy: 0.8065\n",
            "Epoch 95/500\n",
            "36/36 [==============================] - 0s 8ms/step - loss: 0.2197 - accuracy: 0.9879 - val_loss: 0.8330 - val_accuracy: 0.8065\n",
            "Epoch 96/500\n",
            "36/36 [==============================] - 0s 8ms/step - loss: 0.2131 - accuracy: 0.9886 - val_loss: 0.8301 - val_accuracy: 0.8065\n",
            "Epoch 97/500\n",
            "36/36 [==============================] - 0s 9ms/step - loss: 0.2059 - accuracy: 0.9884 - val_loss: 0.8250 - val_accuracy: 0.8065\n",
            "Epoch 98/500\n",
            "36/36 [==============================] - 0s 10ms/step - loss: 0.2012 - accuracy: 0.9889 - val_loss: 0.8205 - val_accuracy: 0.8083\n",
            "Epoch 99/500\n",
            "36/36 [==============================] - 0s 11ms/step - loss: 0.1953 - accuracy: 0.9900 - val_loss: 0.8177 - val_accuracy: 0.8083\n",
            "Epoch 100/500\n",
            "36/36 [==============================] - 0s 9ms/step - loss: 0.1898 - accuracy: 0.9905 - val_loss: 0.8130 - val_accuracy: 0.8065\n",
            "Epoch 101/500\n",
            "36/36 [==============================] - 0s 9ms/step - loss: 0.1844 - accuracy: 0.9898 - val_loss: 0.8103 - val_accuracy: 0.8065\n",
            "Epoch 102/500\n",
            "36/36 [==============================] - 0s 8ms/step - loss: 0.1778 - accuracy: 0.9915 - val_loss: 0.8079 - val_accuracy: 0.8065\n",
            "Epoch 103/500\n",
            "36/36 [==============================] - 0s 8ms/step - loss: 0.1731 - accuracy: 0.9919 - val_loss: 0.8037 - val_accuracy: 0.8065\n",
            "Epoch 104/500\n",
            "36/36 [==============================] - 0s 8ms/step - loss: 0.1678 - accuracy: 0.9934 - val_loss: 0.7996 - val_accuracy: 0.8065\n",
            "Epoch 105/500\n",
            "36/36 [==============================] - 0s 8ms/step - loss: 0.1629 - accuracy: 0.9929 - val_loss: 0.7965 - val_accuracy: 0.8083\n",
            "Epoch 106/500\n",
            "36/36 [==============================] - 0s 8ms/step - loss: 0.1586 - accuracy: 0.9941 - val_loss: 0.7930 - val_accuracy: 0.8083\n",
            "Epoch 107/500\n",
            "36/36 [==============================] - 0s 9ms/step - loss: 0.1546 - accuracy: 0.9943 - val_loss: 0.7904 - val_accuracy: 0.8083\n",
            "Epoch 108/500\n",
            "36/36 [==============================] - 0s 8ms/step - loss: 0.1492 - accuracy: 0.9941 - val_loss: 0.7869 - val_accuracy: 0.8102\n",
            "Epoch 109/500\n",
            "36/36 [==============================] - 0s 8ms/step - loss: 0.1452 - accuracy: 0.9943 - val_loss: 0.7842 - val_accuracy: 0.8083\n",
            "Epoch 110/500\n",
            "36/36 [==============================] - 0s 8ms/step - loss: 0.1417 - accuracy: 0.9945 - val_loss: 0.7809 - val_accuracy: 0.8083\n",
            "Epoch 111/500\n",
            "36/36 [==============================] - 0s 8ms/step - loss: 0.1376 - accuracy: 0.9950 - val_loss: 0.7793 - val_accuracy: 0.8102\n",
            "Epoch 112/500\n",
            "36/36 [==============================] - 0s 8ms/step - loss: 0.1333 - accuracy: 0.9945 - val_loss: 0.7764 - val_accuracy: 0.8121\n",
            "Epoch 113/500\n",
            "36/36 [==============================] - 0s 9ms/step - loss: 0.1299 - accuracy: 0.9950 - val_loss: 0.7740 - val_accuracy: 0.8102\n",
            "Epoch 114/500\n",
            "36/36 [==============================] - 0s 9ms/step - loss: 0.1263 - accuracy: 0.9950 - val_loss: 0.7715 - val_accuracy: 0.8102\n",
            "Epoch 115/500\n",
            "36/36 [==============================] - 0s 8ms/step - loss: 0.1217 - accuracy: 0.9960 - val_loss: 0.7691 - val_accuracy: 0.8102\n",
            "Epoch 116/500\n",
            "36/36 [==============================] - 0s 8ms/step - loss: 0.1187 - accuracy: 0.9955 - val_loss: 0.7652 - val_accuracy: 0.8102\n",
            "Epoch 117/500\n",
            "36/36 [==============================] - 0s 8ms/step - loss: 0.1158 - accuracy: 0.9957 - val_loss: 0.7635 - val_accuracy: 0.8121\n",
            "Epoch 118/500\n",
            "36/36 [==============================] - 0s 9ms/step - loss: 0.1123 - accuracy: 0.9960 - val_loss: 0.7615 - val_accuracy: 0.8102\n",
            "Epoch 119/500\n",
            "36/36 [==============================] - 0s 9ms/step - loss: 0.1086 - accuracy: 0.9962 - val_loss: 0.7599 - val_accuracy: 0.8102\n",
            "Epoch 120/500\n",
            "36/36 [==============================] - 0s 9ms/step - loss: 0.1055 - accuracy: 0.9964 - val_loss: 0.7566 - val_accuracy: 0.8121\n",
            "Epoch 121/500\n",
            "36/36 [==============================] - 0s 9ms/step - loss: 0.1031 - accuracy: 0.9964 - val_loss: 0.7561 - val_accuracy: 0.8121\n",
            "Epoch 122/500\n",
            "36/36 [==============================] - 0s 9ms/step - loss: 0.0997 - accuracy: 0.9967 - val_loss: 0.7540 - val_accuracy: 0.8102\n",
            "Epoch 123/500\n",
            "36/36 [==============================] - 0s 8ms/step - loss: 0.0977 - accuracy: 0.9964 - val_loss: 0.7511 - val_accuracy: 0.8121\n",
            "Epoch 124/500\n",
            "36/36 [==============================] - 0s 8ms/step - loss: 0.0949 - accuracy: 0.9972 - val_loss: 0.7493 - val_accuracy: 0.8102\n",
            "Epoch 125/500\n",
            "36/36 [==============================] - 0s 9ms/step - loss: 0.0917 - accuracy: 0.9974 - val_loss: 0.7486 - val_accuracy: 0.8140\n",
            "Epoch 126/500\n",
            "36/36 [==============================] - 0s 9ms/step - loss: 0.0887 - accuracy: 0.9972 - val_loss: 0.7460 - val_accuracy: 0.8102\n",
            "Epoch 127/500\n",
            "36/36 [==============================] - 0s 9ms/step - loss: 0.0875 - accuracy: 0.9976 - val_loss: 0.7446 - val_accuracy: 0.8083\n",
            "Epoch 128/500\n",
            "36/36 [==============================] - 0s 10ms/step - loss: 0.0849 - accuracy: 0.9969 - val_loss: 0.7420 - val_accuracy: 0.8121\n",
            "Epoch 129/500\n",
            "36/36 [==============================] - 0s 10ms/step - loss: 0.0826 - accuracy: 0.9974 - val_loss: 0.7404 - val_accuracy: 0.8121\n",
            "Epoch 130/500\n",
            "36/36 [==============================] - 0s 10ms/step - loss: 0.0795 - accuracy: 0.9976 - val_loss: 0.7393 - val_accuracy: 0.8083\n",
            "Epoch 131/500\n",
            "36/36 [==============================] - 0s 9ms/step - loss: 0.0775 - accuracy: 0.9979 - val_loss: 0.7376 - val_accuracy: 0.8083\n",
            "Epoch 132/500\n",
            "36/36 [==============================] - 0s 9ms/step - loss: 0.0758 - accuracy: 0.9981 - val_loss: 0.7366 - val_accuracy: 0.8083\n",
            "Epoch 133/500\n",
            "36/36 [==============================] - 0s 8ms/step - loss: 0.0735 - accuracy: 0.9979 - val_loss: 0.7347 - val_accuracy: 0.8121\n",
            "Epoch 134/500\n",
            "36/36 [==============================] - 0s 9ms/step - loss: 0.0711 - accuracy: 0.9981 - val_loss: 0.7337 - val_accuracy: 0.8121\n",
            "Epoch 135/500\n",
            "36/36 [==============================] - 0s 8ms/step - loss: 0.0703 - accuracy: 0.9981 - val_loss: 0.7322 - val_accuracy: 0.8083\n",
            "Epoch 136/500\n",
            "36/36 [==============================] - 0s 8ms/step - loss: 0.0673 - accuracy: 0.9981 - val_loss: 0.7304 - val_accuracy: 0.8102\n",
            "Epoch 137/500\n",
            "36/36 [==============================] - 0s 8ms/step - loss: 0.0657 - accuracy: 0.9981 - val_loss: 0.7282 - val_accuracy: 0.8121\n",
            "Epoch 138/500\n",
            "36/36 [==============================] - 0s 9ms/step - loss: 0.0644 - accuracy: 0.9991 - val_loss: 0.7281 - val_accuracy: 0.8102\n",
            "Epoch 139/500\n",
            "36/36 [==============================] - 0s 9ms/step - loss: 0.0625 - accuracy: 0.9981 - val_loss: 0.7265 - val_accuracy: 0.8121\n",
            "Epoch 140/500\n",
            "36/36 [==============================] - 0s 9ms/step - loss: 0.0607 - accuracy: 0.9981 - val_loss: 0.7263 - val_accuracy: 0.8102\n",
            "Epoch 141/500\n",
            "36/36 [==============================] - 0s 9ms/step - loss: 0.0594 - accuracy: 0.9986 - val_loss: 0.7239 - val_accuracy: 0.8121\n",
            "Epoch 142/500\n",
            "36/36 [==============================] - 0s 8ms/step - loss: 0.0570 - accuracy: 0.9995 - val_loss: 0.7240 - val_accuracy: 0.8140\n",
            "Epoch 143/500\n",
            "36/36 [==============================] - 0s 8ms/step - loss: 0.0553 - accuracy: 0.9991 - val_loss: 0.7232 - val_accuracy: 0.8140\n",
            "Epoch 144/500\n",
            "36/36 [==============================] - 0s 9ms/step - loss: 0.0543 - accuracy: 0.9998 - val_loss: 0.7218 - val_accuracy: 0.8140\n",
            "Epoch 145/500\n",
            "36/36 [==============================] - 0s 8ms/step - loss: 0.0526 - accuracy: 0.9998 - val_loss: 0.7202 - val_accuracy: 0.8121\n",
            "Epoch 146/500\n",
            "36/36 [==============================] - 0s 9ms/step - loss: 0.0511 - accuracy: 0.9998 - val_loss: 0.7204 - val_accuracy: 0.8121\n",
            "Epoch 147/500\n",
            "36/36 [==============================] - 0s 9ms/step - loss: 0.0504 - accuracy: 0.9993 - val_loss: 0.7192 - val_accuracy: 0.8121\n",
            "Epoch 148/500\n",
            "36/36 [==============================] - 0s 8ms/step - loss: 0.0491 - accuracy: 0.9993 - val_loss: 0.7178 - val_accuracy: 0.8121\n",
            "Epoch 149/500\n",
            "36/36 [==============================] - 0s 10ms/step - loss: 0.0480 - accuracy: 1.0000 - val_loss: 0.7167 - val_accuracy: 0.8121\n",
            "Epoch 150/500\n",
            "36/36 [==============================] - 0s 14ms/step - loss: 0.0460 - accuracy: 1.0000 - val_loss: 0.7160 - val_accuracy: 0.8102\n",
            "Epoch 151/500\n",
            "36/36 [==============================] - 0s 12ms/step - loss: 0.0448 - accuracy: 1.0000 - val_loss: 0.7148 - val_accuracy: 0.8121\n",
            "Epoch 152/500\n",
            "36/36 [==============================] - 0s 13ms/step - loss: 0.0435 - accuracy: 0.9998 - val_loss: 0.7135 - val_accuracy: 0.8121\n",
            "Epoch 153/500\n",
            "36/36 [==============================] - 0s 12ms/step - loss: 0.0428 - accuracy: 1.0000 - val_loss: 0.7143 - val_accuracy: 0.8102\n",
            "Epoch 154/500\n",
            "36/36 [==============================] - 1s 15ms/step - loss: 0.0421 - accuracy: 0.9998 - val_loss: 0.7119 - val_accuracy: 0.8140\n",
            "Epoch 155/500\n",
            "36/36 [==============================] - 1s 17ms/step - loss: 0.0406 - accuracy: 0.9998 - val_loss: 0.7116 - val_accuracy: 0.8121\n",
            "Epoch 156/500\n",
            "36/36 [==============================] - 1s 15ms/step - loss: 0.0393 - accuracy: 0.9995 - val_loss: 0.7113 - val_accuracy: 0.8140\n",
            "Epoch 157/500\n",
            "36/36 [==============================] - 0s 13ms/step - loss: 0.0385 - accuracy: 1.0000 - val_loss: 0.7106 - val_accuracy: 0.8140\n",
            "Epoch 158/500\n",
            "36/36 [==============================] - 1s 17ms/step - loss: 0.0375 - accuracy: 1.0000 - val_loss: 0.7102 - val_accuracy: 0.8159\n",
            "Epoch 159/500\n",
            "36/36 [==============================] - 1s 14ms/step - loss: 0.0364 - accuracy: 1.0000 - val_loss: 0.7098 - val_accuracy: 0.8121\n",
            "Epoch 160/500\n",
            "36/36 [==============================] - 0s 12ms/step - loss: 0.0357 - accuracy: 1.0000 - val_loss: 0.7082 - val_accuracy: 0.8159\n",
            "Epoch 161/500\n",
            "36/36 [==============================] - 0s 13ms/step - loss: 0.0346 - accuracy: 1.0000 - val_loss: 0.7084 - val_accuracy: 0.8102\n",
            "Epoch 162/500\n",
            "36/36 [==============================] - 0s 13ms/step - loss: 0.0336 - accuracy: 0.9998 - val_loss: 0.7083 - val_accuracy: 0.8159\n",
            "Epoch 163/500\n",
            "36/36 [==============================] - 0s 11ms/step - loss: 0.0329 - accuracy: 1.0000 - val_loss: 0.7074 - val_accuracy: 0.8140\n",
            "Epoch 164/500\n",
            "36/36 [==============================] - 0s 13ms/step - loss: 0.0318 - accuracy: 0.9998 - val_loss: 0.7069 - val_accuracy: 0.8102\n",
            "Epoch 165/500\n",
            "36/36 [==============================] - 0s 12ms/step - loss: 0.0309 - accuracy: 1.0000 - val_loss: 0.7065 - val_accuracy: 0.8140\n",
            "Epoch 166/500\n",
            "36/36 [==============================] - 0s 12ms/step - loss: 0.0306 - accuracy: 1.0000 - val_loss: 0.7063 - val_accuracy: 0.8178\n",
            "Epoch 167/500\n",
            "36/36 [==============================] - 0s 11ms/step - loss: 0.0296 - accuracy: 1.0000 - val_loss: 0.7062 - val_accuracy: 0.8159\n",
            "Epoch 168/500\n",
            "36/36 [==============================] - 0s 13ms/step - loss: 0.0288 - accuracy: 1.0000 - val_loss: 0.7050 - val_accuracy: 0.8159\n",
            "Epoch 169/500\n",
            "36/36 [==============================] - 1s 18ms/step - loss: 0.0279 - accuracy: 1.0000 - val_loss: 0.7050 - val_accuracy: 0.8159\n",
            "Epoch 170/500\n",
            "36/36 [==============================] - 0s 14ms/step - loss: 0.0271 - accuracy: 1.0000 - val_loss: 0.7042 - val_accuracy: 0.8216\n",
            "Epoch 171/500\n",
            "36/36 [==============================] - 0s 13ms/step - loss: 0.0267 - accuracy: 1.0000 - val_loss: 0.7041 - val_accuracy: 0.8159\n",
            "Epoch 172/500\n",
            "36/36 [==============================] - 0s 12ms/step - loss: 0.0263 - accuracy: 1.0000 - val_loss: 0.7047 - val_accuracy: 0.8178\n",
            "Epoch 173/500\n",
            "36/36 [==============================] - 0s 11ms/step - loss: 0.0255 - accuracy: 1.0000 - val_loss: 0.7033 - val_accuracy: 0.8121\n",
            "Epoch 174/500\n",
            "36/36 [==============================] - 1s 16ms/step - loss: 0.0244 - accuracy: 1.0000 - val_loss: 0.7021 - val_accuracy: 0.8216\n",
            "Epoch 175/500\n",
            "36/36 [==============================] - 1s 15ms/step - loss: 0.0240 - accuracy: 1.0000 - val_loss: 0.7019 - val_accuracy: 0.8216\n",
            "Epoch 176/500\n",
            "36/36 [==============================] - 0s 13ms/step - loss: 0.0234 - accuracy: 1.0000 - val_loss: 0.7016 - val_accuracy: 0.8197\n",
            "Epoch 177/500\n",
            "36/36 [==============================] - 0s 13ms/step - loss: 0.0230 - accuracy: 1.0000 - val_loss: 0.7031 - val_accuracy: 0.8159\n",
            "Epoch 178/500\n",
            "36/36 [==============================] - 1s 18ms/step - loss: 0.0223 - accuracy: 1.0000 - val_loss: 0.7015 - val_accuracy: 0.8197\n",
            "Epoch 179/500\n",
            "36/36 [==============================] - 1s 16ms/step - loss: 0.0217 - accuracy: 1.0000 - val_loss: 0.7016 - val_accuracy: 0.8216\n",
            "Epoch 180/500\n",
            "36/36 [==============================] - 1s 17ms/step - loss: 0.0211 - accuracy: 1.0000 - val_loss: 0.7015 - val_accuracy: 0.8178\n",
            "Epoch 181/500\n",
            "36/36 [==============================] - 1s 19ms/step - loss: 0.0208 - accuracy: 1.0000 - val_loss: 0.7016 - val_accuracy: 0.8197\n",
            "Epoch 182/500\n",
            "36/36 [==============================] - 1s 15ms/step - loss: 0.0203 - accuracy: 1.0000 - val_loss: 0.7010 - val_accuracy: 0.8197\n",
            "Epoch 183/500\n",
            "36/36 [==============================] - 1s 16ms/step - loss: 0.0196 - accuracy: 1.0000 - val_loss: 0.7005 - val_accuracy: 0.8178\n",
            "Epoch 184/500\n",
            "36/36 [==============================] - 0s 11ms/step - loss: 0.0194 - accuracy: 1.0000 - val_loss: 0.6998 - val_accuracy: 0.8216\n",
            "Epoch 185/500\n",
            "36/36 [==============================] - 0s 8ms/step - loss: 0.0188 - accuracy: 1.0000 - val_loss: 0.7001 - val_accuracy: 0.8216\n",
            "Epoch 186/500\n",
            "29/36 [=======================>......] - ETA: 0s - loss: 0.0191 - accuracy: 1.0000"
          ]
        }
      ],
      "source": [
        "# training the model\n",
        "epochs = 500\n",
        "callback = tf.keras.callbacks.EarlyStopping(monitor='val_loss',\n",
        "                                            patience=15,\n",
        "                                            verbose=1)\n",
        "history = model.fit(train_ds,\n",
        "                    validation_data=val_ds,\n",
        "                    epochs=epochs,\n",
        "                    callbacks=[callback])"
      ]
    },
    {
      "cell_type": "code",
      "execution_count": 98,
      "metadata": {
        "colab": {
          "base_uri": "https://localhost:8080/"
        },
        "id": "FksY9EwwHDkd",
        "outputId": "4c87c1e6-8709-4153-d7db-47de9c54e285"
      },
      "outputs": [
        {
          "output_type": "stream",
          "name": "stdout",
          "text": [
            "5/5 [==============================] - 0s 4ms/step - loss: 0.6943 - accuracy: 0.8425\n",
            "Loss:  0.6942824125289917\n",
            "Accuracy:  0.8425047397613525\n"
          ]
        }
      ],
      "source": [
        "# printing loss and accuracy of the model on the test set\n",
        "loss, accuracy = model.evaluate(test_ds)\n",
        "print(\"Loss: \", loss)\n",
        "print(\"Accuracy: \", accuracy)"
      ]
    },
    {
      "cell_type": "code",
      "execution_count": null,
      "metadata": {
        "id": "cPdyDruxHIv1"
      },
      "outputs": [],
      "source": [
        "# extracting the history of training and its keys\n",
        "history_dict = history.history\n",
        "history_dict.keys()"
      ]
    },
    {
      "cell_type": "code",
      "execution_count": null,
      "metadata": {
        "id": "shbF_xRlHDqZ"
      },
      "outputs": [],
      "source": [
        "acc = history_dict['accuracy']\n",
        "val_acc = history_dict['val_accuracy']\n",
        "loss = history_dict['loss']\n",
        "val_loss = history_dict['val_loss']\n",
        "\n",
        "epochs = range(1, len(acc) + 1)"
      ]
    },
    {
      "cell_type": "code",
      "execution_count": null,
      "metadata": {
        "id": "iLsoTgHGP7Oq"
      },
      "outputs": [],
      "source": [
        "# ploting of loss\n",
        "plt.plot(epochs, loss, 'b', label='Training loss')\n",
        "plt.plot(epochs, val_loss, 'r', label='Validation loss')\n",
        "plt.title('Training and validation loss')\n",
        "plt.xlabel('Epochs')\n",
        "plt.ylabel('Loss')\n",
        "plt.legend()\n",
        "plt.show()"
      ]
    },
    {
      "cell_type": "code",
      "execution_count": 55,
      "metadata": {
        "colab": {
          "base_uri": "https://localhost:8080/",
          "height": 295
        },
        "id": "1uWqq-CtP-Lq",
        "outputId": "a2370b88-4a01-443b-bf06-75c1519f3464"
      },
      "outputs": [
        {
          "output_type": "display_data",
          "data": {
            "text/plain": [
              "<Figure size 432x288 with 1 Axes>"
            ],
            "image/png": "[encoded data removed]"
          },
          "metadata": {
            "needs_background": "light"
          }
        }
      ],
      "source": [
        "# plotting of accuracy\n",
        "plt.plot(epochs, acc, 'b', label='Training acc')\n",
        "plt.plot(epochs, val_acc, 'r', label='Validation acc')\n",
        "plt.title('Training and validation accuracy')\n",
        "plt.xlabel('Epochs')\n",
        "plt.ylabel('Accuracy')\n",
        "plt.legend(loc='lower right')\n",
        "plt.show()"
      ]
    },
    {
      "cell_type": "code",
      "execution_count": 56,
      "metadata": {
        "colab": {
          "base_uri": "https://localhost:8080/"
        },
        "id": "YQj61lIMvX-Y",
        "outputId": "40e70299-32ec-4c0f-b7c3-5ef837fd67da"
      },
      "outputs": [
        {
          "output_type": "stream",
          "name": "stdout",
          "text": [
            "5/5 [==============================] - 0s 3ms/step\n"
          ]
        }
      ],
      "source": [
        "# creating the probability model for testing\n",
        "probability_model = tf.keras.Sequential([model, tf.keras.layers.Softmax()])\n",
        "\n",
        "# predicting test samples\n",
        "predictions = probability_model.predict(raw_test_batch.map(vectorize_text))"
      ]
    },
    {
      "cell_type": "code",
      "execution_count": 57,
      "metadata": {
        "colab": {
          "base_uri": "https://localhost:8080/"
        },
        "id": "5cbhBKR7NYPQ",
        "outputId": "ccc59a27-1e82-4ead-90bd-116b7ef37933"
      },
      "outputs": [
        {
          "output_type": "execute_result",
          "data": {
            "text/plain": [
              "12"
            ]
          },
          "metadata": {},
          "execution_count": 57
        }
      ],
      "source": [
        "# showing the first test sample result label\n",
        "np.argmax(predictions[0])"
      ]
    },
    {
      "cell_type": "code",
      "execution_count": 58,
      "metadata": {
        "colab": {
          "base_uri": "https://localhost:8080/"
        },
        "id": "aNsnTWVuu3xj",
        "outputId": "f12210f8-280c-48a1-f6a6-065155686b84"
      },
      "outputs": [
        {
          "output_type": "execute_result",
          "data": {
            "text/plain": [
              "text         herschel sulfur spring olive night reflective ...\n",
              "label                                           Luggage & Bags\n",
              "label_int                                                   12\n",
              "Name: 3686, dtype: object"
            ]
          },
          "metadata": {},
          "execution_count": 58
        }
      ],
      "source": [
        "# showing the true label of the first test sample\n",
        "test_df.iloc[0]"
      ]
    },
    {
      "cell_type": "code",
      "execution_count": 58,
      "metadata": {
        "id": "bOt2UPu7NbUW"
      },
      "outputs": [],
      "source": []
    },
    {
      "cell_type": "markdown",
      "metadata": {
        "id": "CSw7kwIQipyc"
      },
      "source": [
        "**Author:** https://farrokhkarimi.github.io/"
      ]
    }
  ],
  "metadata": {
    "accelerator": "GPU",
    "colab": {
      "provenance": [],
      "include_colab_link": true
    },
    "gpuClass": "standard",
    "kernelspec": {
      "display_name": "Python 3",
      "name": "python3"
    },
    "language_info": {
      "name": "python"
    }
  },
  "nbformat": 4,
  "nbformat_minor": 0
}